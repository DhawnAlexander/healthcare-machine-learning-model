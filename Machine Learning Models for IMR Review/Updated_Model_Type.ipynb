{
  "cells": [
    {
      "cell_type": "code",
      "execution_count": 1,
      "metadata": {
        "id": "WrDwZO9zDGQK"
      },
      "outputs": [],
      "source": [
        "#Import Dependencies \n",
        "import numpy as np \n",
        "import pandas as pd \n",
        "from sklearn.model_selection import train_test_split\n",
        "from sklearn.preprocessing import StandardScaler\n",
        "import tensorflow as tf\n",
        "from sklearn.metrics import balanced_accuracy_score, confusion_matrix, classification_report\n",
        "\n",
        "\n",
        "\n",
        "\n",
        "\n",
        "\n",
        "\n",
        "\n",
        "\n",
        "\n"
      ]
    },
    {
      "cell_type": "code",
      "execution_count": 5,
      "metadata": {
        "colab": {
          "base_uri": "https://localhost:8080/",
          "height": 337
        },
        "id": "NHgeBWrdDGQO",
        "outputId": "8b903792-1a6e-4fc5-bd5d-789a5888da57"
      },
      "outputs": [
        {
          "output_type": "execute_result",
          "data": {
            "text/plain": [
              "       diagnosis_category diagnosis_sub_category  \\\n",
              "0              Infectious              Hepatitis   \n",
              "1                  Mental        Eating Disorder   \n",
              "2         Autism Spectrum         Autism-PDD-NOS   \n",
              "3  Prevention/Good Health                    NaN   \n",
              "4  Prevention/Good Health                    NaN   \n",
              "\n",
              "                          treatment_category  \\\n",
              "0                Pharmacy/Prescription Drugs   \n",
              "1                    Mental Health Treatment   \n",
              "2                   Autism Related Treatment   \n",
              "3  Diagnostic Imaging, Screening and Testing   \n",
              "4  Diagnostic Imaging, Screening and Testing   \n",
              "\n",
              "                     treatment_sub_category  \\\n",
              "0                               Anti-virals   \n",
              "1  Residential Treatment Center - Admission   \n",
              "2                            Speech Therapy   \n",
              "3                               Mammography   \n",
              "4                                  Lab Work   \n",
              "\n",
              "                        determination                          type age_range  \\\n",
              "0  Overturned Decision of Health Plan             Medical Necessity     41-50   \n",
              "1      Upheld Decision of Health Plan             Medical Necessity     21-30   \n",
              "2      Upheld Decision of Health Plan             Medical Necessity      0-10   \n",
              "3  Overturned Decision of Health Plan  Experimental/Investigational       65+   \n",
              "4      Upheld Decision of Health Plan  Experimental/Investigational     21-30   \n",
              "\n",
              "  patient_gender  \n",
              "0           Male  \n",
              "1         Female  \n",
              "2         Female  \n",
              "3         Female  \n",
              "4           Male  "
            ],
            "text/html": [
              "\n",
              "  <div id=\"df-480427ec-25e0-4e10-af06-aa2e1d10d576\">\n",
              "    <div class=\"colab-df-container\">\n",
              "      <div>\n",
              "<style scoped>\n",
              "    .dataframe tbody tr th:only-of-type {\n",
              "        vertical-align: middle;\n",
              "    }\n",
              "\n",
              "    .dataframe tbody tr th {\n",
              "        vertical-align: top;\n",
              "    }\n",
              "\n",
              "    .dataframe thead th {\n",
              "        text-align: right;\n",
              "    }\n",
              "</style>\n",
              "<table border=\"1\" class=\"dataframe\">\n",
              "  <thead>\n",
              "    <tr style=\"text-align: right;\">\n",
              "      <th></th>\n",
              "      <th>diagnosis_category</th>\n",
              "      <th>diagnosis_sub_category</th>\n",
              "      <th>treatment_category</th>\n",
              "      <th>treatment_sub_category</th>\n",
              "      <th>determination</th>\n",
              "      <th>type</th>\n",
              "      <th>age_range</th>\n",
              "      <th>patient_gender</th>\n",
              "    </tr>\n",
              "  </thead>\n",
              "  <tbody>\n",
              "    <tr>\n",
              "      <th>0</th>\n",
              "      <td>Infectious</td>\n",
              "      <td>Hepatitis</td>\n",
              "      <td>Pharmacy/Prescription Drugs</td>\n",
              "      <td>Anti-virals</td>\n",
              "      <td>Overturned Decision of Health Plan</td>\n",
              "      <td>Medical Necessity</td>\n",
              "      <td>41-50</td>\n",
              "      <td>Male</td>\n",
              "    </tr>\n",
              "    <tr>\n",
              "      <th>1</th>\n",
              "      <td>Mental</td>\n",
              "      <td>Eating Disorder</td>\n",
              "      <td>Mental Health Treatment</td>\n",
              "      <td>Residential Treatment Center - Admission</td>\n",
              "      <td>Upheld Decision of Health Plan</td>\n",
              "      <td>Medical Necessity</td>\n",
              "      <td>21-30</td>\n",
              "      <td>Female</td>\n",
              "    </tr>\n",
              "    <tr>\n",
              "      <th>2</th>\n",
              "      <td>Autism Spectrum</td>\n",
              "      <td>Autism-PDD-NOS</td>\n",
              "      <td>Autism Related Treatment</td>\n",
              "      <td>Speech Therapy</td>\n",
              "      <td>Upheld Decision of Health Plan</td>\n",
              "      <td>Medical Necessity</td>\n",
              "      <td>0-10</td>\n",
              "      <td>Female</td>\n",
              "    </tr>\n",
              "    <tr>\n",
              "      <th>3</th>\n",
              "      <td>Prevention/Good Health</td>\n",
              "      <td>NaN</td>\n",
              "      <td>Diagnostic Imaging, Screening and Testing</td>\n",
              "      <td>Mammography</td>\n",
              "      <td>Overturned Decision of Health Plan</td>\n",
              "      <td>Experimental/Investigational</td>\n",
              "      <td>65+</td>\n",
              "      <td>Female</td>\n",
              "    </tr>\n",
              "    <tr>\n",
              "      <th>4</th>\n",
              "      <td>Prevention/Good Health</td>\n",
              "      <td>NaN</td>\n",
              "      <td>Diagnostic Imaging, Screening and Testing</td>\n",
              "      <td>Lab Work</td>\n",
              "      <td>Upheld Decision of Health Plan</td>\n",
              "      <td>Experimental/Investigational</td>\n",
              "      <td>21-30</td>\n",
              "      <td>Male</td>\n",
              "    </tr>\n",
              "  </tbody>\n",
              "</table>\n",
              "</div>\n",
              "      <button class=\"colab-df-convert\" onclick=\"convertToInteractive('df-480427ec-25e0-4e10-af06-aa2e1d10d576')\"\n",
              "              title=\"Convert this dataframe to an interactive table.\"\n",
              "              style=\"display:none;\">\n",
              "        \n",
              "  <svg xmlns=\"http://www.w3.org/2000/svg\" height=\"24px\"viewBox=\"0 0 24 24\"\n",
              "       width=\"24px\">\n",
              "    <path d=\"M0 0h24v24H0V0z\" fill=\"none\"/>\n",
              "    <path d=\"M18.56 5.44l.94 2.06.94-2.06 2.06-.94-2.06-.94-.94-2.06-.94 2.06-2.06.94zm-11 1L8.5 8.5l.94-2.06 2.06-.94-2.06-.94L8.5 2.5l-.94 2.06-2.06.94zm10 10l.94 2.06.94-2.06 2.06-.94-2.06-.94-.94-2.06-.94 2.06-2.06.94z\"/><path d=\"M17.41 7.96l-1.37-1.37c-.4-.4-.92-.59-1.43-.59-.52 0-1.04.2-1.43.59L10.3 9.45l-7.72 7.72c-.78.78-.78 2.05 0 2.83L4 21.41c.39.39.9.59 1.41.59.51 0 1.02-.2 1.41-.59l7.78-7.78 2.81-2.81c.8-.78.8-2.07 0-2.86zM5.41 20L4 18.59l7.72-7.72 1.47 1.35L5.41 20z\"/>\n",
              "  </svg>\n",
              "      </button>\n",
              "      \n",
              "  <style>\n",
              "    .colab-df-container {\n",
              "      display:flex;\n",
              "      flex-wrap:wrap;\n",
              "      gap: 12px;\n",
              "    }\n",
              "\n",
              "    .colab-df-convert {\n",
              "      background-color: #E8F0FE;\n",
              "      border: none;\n",
              "      border-radius: 50%;\n",
              "      cursor: pointer;\n",
              "      display: none;\n",
              "      fill: #1967D2;\n",
              "      height: 32px;\n",
              "      padding: 0 0 0 0;\n",
              "      width: 32px;\n",
              "    }\n",
              "\n",
              "    .colab-df-convert:hover {\n",
              "      background-color: #E2EBFA;\n",
              "      box-shadow: 0px 1px 2px rgba(60, 64, 67, 0.3), 0px 1px 3px 1px rgba(60, 64, 67, 0.15);\n",
              "      fill: #174EA6;\n",
              "    }\n",
              "\n",
              "    [theme=dark] .colab-df-convert {\n",
              "      background-color: #3B4455;\n",
              "      fill: #D2E3FC;\n",
              "    }\n",
              "\n",
              "    [theme=dark] .colab-df-convert:hover {\n",
              "      background-color: #434B5C;\n",
              "      box-shadow: 0px 1px 3px 1px rgba(0, 0, 0, 0.15);\n",
              "      filter: drop-shadow(0px 1px 2px rgba(0, 0, 0, 0.3));\n",
              "      fill: #FFFFFF;\n",
              "    }\n",
              "  </style>\n",
              "\n",
              "      <script>\n",
              "        const buttonEl =\n",
              "          document.querySelector('#df-480427ec-25e0-4e10-af06-aa2e1d10d576 button.colab-df-convert');\n",
              "        buttonEl.style.display =\n",
              "          google.colab.kernel.accessAllowed ? 'block' : 'none';\n",
              "\n",
              "        async function convertToInteractive(key) {\n",
              "          const element = document.querySelector('#df-480427ec-25e0-4e10-af06-aa2e1d10d576');\n",
              "          const dataTable =\n",
              "            await google.colab.kernel.invokeFunction('convertToInteractive',\n",
              "                                                     [key], {});\n",
              "          if (!dataTable) return;\n",
              "\n",
              "          const docLinkHtml = 'Like what you see? Visit the ' +\n",
              "            '<a target=\"_blank\" href=https://colab.research.google.com/notebooks/data_table.ipynb>data table notebook</a>'\n",
              "            + ' to learn more about interactive tables.';\n",
              "          element.innerHTML = '';\n",
              "          dataTable['output_type'] = 'display_data';\n",
              "          await google.colab.output.renderOutput(dataTable, element);\n",
              "          const docLink = document.createElement('div');\n",
              "          docLink.innerHTML = docLinkHtml;\n",
              "          element.appendChild(docLink);\n",
              "        }\n",
              "      </script>\n",
              "    </div>\n",
              "  </div>\n",
              "  "
            ]
          },
          "metadata": {},
          "execution_count": 5
        }
      ],
      "source": [
        "#Import and read the clean csv data \n",
        "urgentcare_df=pd.read_csv(\"/urgentcare_clean.csv\")\n",
        "urgentcare_df.head()\n",
        "\n",
        "\n"
      ]
    },
    {
      "cell_type": "code",
      "execution_count": 6,
      "metadata": {
        "colab": {
          "base_uri": "https://localhost:8080/"
        },
        "id": "SRgFh31vDGQO",
        "outputId": "0a192084-d2ea-402a-9a60-ac1111bf6a3d"
      },
      "outputs": [
        {
          "output_type": "execute_result",
          "data": {
            "text/plain": [
              "diagnosis_category         27\n",
              "diagnosis_sub_category    145\n",
              "treatment_category         30\n",
              "treatment_sub_category    120\n",
              "determination               2\n",
              "type                        3\n",
              "age_range                   7\n",
              "patient_gender              2\n",
              "dtype: int64"
            ]
          },
          "metadata": {},
          "execution_count": 6
        }
      ],
      "source": [
        "#Determine the number of unique values in each column\n",
        "urgentcare_df.nunique()"
      ]
    },
    {
      "cell_type": "code",
      "execution_count": 7,
      "metadata": {
        "colab": {
          "base_uri": "https://localhost:8080/"
        },
        "id": "IVd7BOcbDGQP",
        "outputId": "3271b08f-6caf-45f1-c4df-4d6b287a115b"
      },
      "outputs": [
        {
          "output_type": "execute_result",
          "data": {
            "text/plain": [
              "Medical Necessity               821\n",
              "Experimental/Investigational    468\n",
              "Urgent Care                      18\n",
              "Name: type, dtype: int64"
            ]
          },
          "metadata": {},
          "execution_count": 7
        }
      ],
      "source": [
        "#Look at type value counts \n",
        "type_count= urgentcare_df[\"type\"].value_counts()\n",
        "type_count"
      ]
    },
    {
      "cell_type": "code",
      "source": [
        "urgentcare_df['target']=np.where(urgentcare_df[\"type\"]==\"Medical Necessity\", \"Not Medically Necessary\", \"Experimental/Investigation or Nonemergent\")\n",
        "urgentcare_df['target'].value_counts()\n",
        "\n"
      ],
      "metadata": {
        "colab": {
          "base_uri": "https://localhost:8080/"
        },
        "id": "Y_6wDe_YEKvm",
        "outputId": "3b02380b-d3fb-4dc2-c6e2-1d12ec2c9269"
      },
      "execution_count": 12,
      "outputs": [
        {
          "output_type": "execute_result",
          "data": {
            "text/plain": [
              "Not Medically Necessary                      821\n",
              "Experimental/Investigation or Nonemergent    486\n",
              "Name: target, dtype: int64"
            ]
          },
          "metadata": {},
          "execution_count": 12
        }
      ]
    },
    {
      "cell_type": "code",
      "source": [
        "urgentcare_df['target']=np.where(urgentcare_df[\"target\"]==\"Not Medically Necessary\", 1, 0)\n",
        "urgentcare_df['target'].value_counts()"
      ],
      "metadata": {
        "colab": {
          "base_uri": "https://localhost:8080/"
        },
        "id": "fgRY4JY0GM13",
        "outputId": "a93b720f-5e73-4ef4-ac9f-66409b238bc8"
      },
      "execution_count": 13,
      "outputs": [
        {
          "output_type": "execute_result",
          "data": {
            "text/plain": [
              "1    821\n",
              "0    486\n",
              "Name: target, dtype: int64"
            ]
          },
          "metadata": {},
          "execution_count": 13
        }
      ]
    },
    {
      "cell_type": "code",
      "source": [
        "urgentcare_df=urgentcare_df.drop('type', axis = 1)"
      ],
      "metadata": {
        "id": "caGatRWPG1T9"
      },
      "execution_count": 14,
      "outputs": []
    },
    {
      "cell_type": "code",
      "source": [
        "# Convert categorical data to numeric with `pd.get_dummies`\n",
        "dummies_df =pd.get_dummies(urgentcare_df)\n",
        "dummies_df.head()"
      ],
      "metadata": {
        "colab": {
          "base_uri": "https://localhost:8080/",
          "height": 334
        },
        "id": "EXueRahIFwOk",
        "outputId": "c519fa42-4156-417e-aa3b-fb08e95ca03f"
      },
      "execution_count": 15,
      "outputs": [
        {
          "output_type": "execute_result",
          "data": {
            "text/plain": [
              "   target  diagnosis_category_Autism Spectrum  \\\n",
              "0       1                                   0   \n",
              "1       1                                   0   \n",
              "2       1                                   1   \n",
              "3       0                                   0   \n",
              "4       0                                   0   \n",
              "\n",
              "   diagnosis_category_Blood Related  diagnosis_category_Cancer  \\\n",
              "0                                 0                          0   \n",
              "1                                 0                          0   \n",
              "2                                 0                          0   \n",
              "3                                 0                          0   \n",
              "4                                 0                          0   \n",
              "\n",
              "   diagnosis_category_Cardiac/Circulatory  \\\n",
              "0                                       0   \n",
              "1                                       0   \n",
              "2                                       0   \n",
              "3                                       0   \n",
              "4                                       0   \n",
              "\n",
              "   diagnosis_category_Central Nervous System/ Neuromuscular  \\\n",
              "0                                                  0          \n",
              "1                                                  0          \n",
              "2                                                  0          \n",
              "3                                                  0          \n",
              "4                                                  0          \n",
              "\n",
              "   diagnosis_category_Chronic Pain  diagnosis_category_Dental  \\\n",
              "0                                0                          0   \n",
              "1                                0                          0   \n",
              "2                                0                          0   \n",
              "3                                0                          0   \n",
              "4                                0                          0   \n",
              "\n",
              "   diagnosis_category_Digestive System/ Gastrointestinal  \\\n",
              "0                                                  0       \n",
              "1                                                  0       \n",
              "2                                                  0       \n",
              "3                                                  0       \n",
              "4                                                  0       \n",
              "\n",
              "   diagnosis_category_Ears, Nose, Throat  ...  \\\n",
              "0                                      0  ...   \n",
              "1                                      0  ...   \n",
              "2                                      0  ...   \n",
              "3                                      0  ...   \n",
              "4                                      0  ...   \n",
              "\n",
              "   determination_Upheld Decision of Health Plan  age_range_0-10  \\\n",
              "0                                             0               0   \n",
              "1                                             1               0   \n",
              "2                                             1               1   \n",
              "3                                             0               0   \n",
              "4                                             1               0   \n",
              "\n",
              "   age_range_11_20  age_range_21-30  age_range_31-40  age_range_41-50  \\\n",
              "0                0                0                0                1   \n",
              "1                0                1                0                0   \n",
              "2                0                0                0                0   \n",
              "3                0                0                0                0   \n",
              "4                0                1                0                0   \n",
              "\n",
              "   age_range_51-64  age_range_65+  patient_gender_Female  patient_gender_Male  \n",
              "0                0              0                      0                    1  \n",
              "1                0              0                      1                    0  \n",
              "2                0              0                      1                    0  \n",
              "3                0              1                      1                    0  \n",
              "4                0              0                      0                    1  \n",
              "\n",
              "[5 rows x 334 columns]"
            ],
            "text/html": [
              "\n",
              "  <div id=\"df-3b08c5b4-9176-449e-8ed2-c9db8ef7475c\">\n",
              "    <div class=\"colab-df-container\">\n",
              "      <div>\n",
              "<style scoped>\n",
              "    .dataframe tbody tr th:only-of-type {\n",
              "        vertical-align: middle;\n",
              "    }\n",
              "\n",
              "    .dataframe tbody tr th {\n",
              "        vertical-align: top;\n",
              "    }\n",
              "\n",
              "    .dataframe thead th {\n",
              "        text-align: right;\n",
              "    }\n",
              "</style>\n",
              "<table border=\"1\" class=\"dataframe\">\n",
              "  <thead>\n",
              "    <tr style=\"text-align: right;\">\n",
              "      <th></th>\n",
              "      <th>target</th>\n",
              "      <th>diagnosis_category_Autism Spectrum</th>\n",
              "      <th>diagnosis_category_Blood Related</th>\n",
              "      <th>diagnosis_category_Cancer</th>\n",
              "      <th>diagnosis_category_Cardiac/Circulatory</th>\n",
              "      <th>diagnosis_category_Central Nervous System/ Neuromuscular</th>\n",
              "      <th>diagnosis_category_Chronic Pain</th>\n",
              "      <th>diagnosis_category_Dental</th>\n",
              "      <th>diagnosis_category_Digestive System/ Gastrointestinal</th>\n",
              "      <th>diagnosis_category_Ears, Nose, Throat</th>\n",
              "      <th>...</th>\n",
              "      <th>determination_Upheld Decision of Health Plan</th>\n",
              "      <th>age_range_0-10</th>\n",
              "      <th>age_range_11_20</th>\n",
              "      <th>age_range_21-30</th>\n",
              "      <th>age_range_31-40</th>\n",
              "      <th>age_range_41-50</th>\n",
              "      <th>age_range_51-64</th>\n",
              "      <th>age_range_65+</th>\n",
              "      <th>patient_gender_Female</th>\n",
              "      <th>patient_gender_Male</th>\n",
              "    </tr>\n",
              "  </thead>\n",
              "  <tbody>\n",
              "    <tr>\n",
              "      <th>0</th>\n",
              "      <td>1</td>\n",
              "      <td>0</td>\n",
              "      <td>0</td>\n",
              "      <td>0</td>\n",
              "      <td>0</td>\n",
              "      <td>0</td>\n",
              "      <td>0</td>\n",
              "      <td>0</td>\n",
              "      <td>0</td>\n",
              "      <td>0</td>\n",
              "      <td>...</td>\n",
              "      <td>0</td>\n",
              "      <td>0</td>\n",
              "      <td>0</td>\n",
              "      <td>0</td>\n",
              "      <td>0</td>\n",
              "      <td>1</td>\n",
              "      <td>0</td>\n",
              "      <td>0</td>\n",
              "      <td>0</td>\n",
              "      <td>1</td>\n",
              "    </tr>\n",
              "    <tr>\n",
              "      <th>1</th>\n",
              "      <td>1</td>\n",
              "      <td>0</td>\n",
              "      <td>0</td>\n",
              "      <td>0</td>\n",
              "      <td>0</td>\n",
              "      <td>0</td>\n",
              "      <td>0</td>\n",
              "      <td>0</td>\n",
              "      <td>0</td>\n",
              "      <td>0</td>\n",
              "      <td>...</td>\n",
              "      <td>1</td>\n",
              "      <td>0</td>\n",
              "      <td>0</td>\n",
              "      <td>1</td>\n",
              "      <td>0</td>\n",
              "      <td>0</td>\n",
              "      <td>0</td>\n",
              "      <td>0</td>\n",
              "      <td>1</td>\n",
              "      <td>0</td>\n",
              "    </tr>\n",
              "    <tr>\n",
              "      <th>2</th>\n",
              "      <td>1</td>\n",
              "      <td>1</td>\n",
              "      <td>0</td>\n",
              "      <td>0</td>\n",
              "      <td>0</td>\n",
              "      <td>0</td>\n",
              "      <td>0</td>\n",
              "      <td>0</td>\n",
              "      <td>0</td>\n",
              "      <td>0</td>\n",
              "      <td>...</td>\n",
              "      <td>1</td>\n",
              "      <td>1</td>\n",
              "      <td>0</td>\n",
              "      <td>0</td>\n",
              "      <td>0</td>\n",
              "      <td>0</td>\n",
              "      <td>0</td>\n",
              "      <td>0</td>\n",
              "      <td>1</td>\n",
              "      <td>0</td>\n",
              "    </tr>\n",
              "    <tr>\n",
              "      <th>3</th>\n",
              "      <td>0</td>\n",
              "      <td>0</td>\n",
              "      <td>0</td>\n",
              "      <td>0</td>\n",
              "      <td>0</td>\n",
              "      <td>0</td>\n",
              "      <td>0</td>\n",
              "      <td>0</td>\n",
              "      <td>0</td>\n",
              "      <td>0</td>\n",
              "      <td>...</td>\n",
              "      <td>0</td>\n",
              "      <td>0</td>\n",
              "      <td>0</td>\n",
              "      <td>0</td>\n",
              "      <td>0</td>\n",
              "      <td>0</td>\n",
              "      <td>0</td>\n",
              "      <td>1</td>\n",
              "      <td>1</td>\n",
              "      <td>0</td>\n",
              "    </tr>\n",
              "    <tr>\n",
              "      <th>4</th>\n",
              "      <td>0</td>\n",
              "      <td>0</td>\n",
              "      <td>0</td>\n",
              "      <td>0</td>\n",
              "      <td>0</td>\n",
              "      <td>0</td>\n",
              "      <td>0</td>\n",
              "      <td>0</td>\n",
              "      <td>0</td>\n",
              "      <td>0</td>\n",
              "      <td>...</td>\n",
              "      <td>1</td>\n",
              "      <td>0</td>\n",
              "      <td>0</td>\n",
              "      <td>1</td>\n",
              "      <td>0</td>\n",
              "      <td>0</td>\n",
              "      <td>0</td>\n",
              "      <td>0</td>\n",
              "      <td>0</td>\n",
              "      <td>1</td>\n",
              "    </tr>\n",
              "  </tbody>\n",
              "</table>\n",
              "<p>5 rows × 334 columns</p>\n",
              "</div>\n",
              "      <button class=\"colab-df-convert\" onclick=\"convertToInteractive('df-3b08c5b4-9176-449e-8ed2-c9db8ef7475c')\"\n",
              "              title=\"Convert this dataframe to an interactive table.\"\n",
              "              style=\"display:none;\">\n",
              "        \n",
              "  <svg xmlns=\"http://www.w3.org/2000/svg\" height=\"24px\"viewBox=\"0 0 24 24\"\n",
              "       width=\"24px\">\n",
              "    <path d=\"M0 0h24v24H0V0z\" fill=\"none\"/>\n",
              "    <path d=\"M18.56 5.44l.94 2.06.94-2.06 2.06-.94-2.06-.94-.94-2.06-.94 2.06-2.06.94zm-11 1L8.5 8.5l.94-2.06 2.06-.94-2.06-.94L8.5 2.5l-.94 2.06-2.06.94zm10 10l.94 2.06.94-2.06 2.06-.94-2.06-.94-.94-2.06-.94 2.06-2.06.94z\"/><path d=\"M17.41 7.96l-1.37-1.37c-.4-.4-.92-.59-1.43-.59-.52 0-1.04.2-1.43.59L10.3 9.45l-7.72 7.72c-.78.78-.78 2.05 0 2.83L4 21.41c.39.39.9.59 1.41.59.51 0 1.02-.2 1.41-.59l7.78-7.78 2.81-2.81c.8-.78.8-2.07 0-2.86zM5.41 20L4 18.59l7.72-7.72 1.47 1.35L5.41 20z\"/>\n",
              "  </svg>\n",
              "      </button>\n",
              "      \n",
              "  <style>\n",
              "    .colab-df-container {\n",
              "      display:flex;\n",
              "      flex-wrap:wrap;\n",
              "      gap: 12px;\n",
              "    }\n",
              "\n",
              "    .colab-df-convert {\n",
              "      background-color: #E8F0FE;\n",
              "      border: none;\n",
              "      border-radius: 50%;\n",
              "      cursor: pointer;\n",
              "      display: none;\n",
              "      fill: #1967D2;\n",
              "      height: 32px;\n",
              "      padding: 0 0 0 0;\n",
              "      width: 32px;\n",
              "    }\n",
              "\n",
              "    .colab-df-convert:hover {\n",
              "      background-color: #E2EBFA;\n",
              "      box-shadow: 0px 1px 2px rgba(60, 64, 67, 0.3), 0px 1px 3px 1px rgba(60, 64, 67, 0.15);\n",
              "      fill: #174EA6;\n",
              "    }\n",
              "\n",
              "    [theme=dark] .colab-df-convert {\n",
              "      background-color: #3B4455;\n",
              "      fill: #D2E3FC;\n",
              "    }\n",
              "\n",
              "    [theme=dark] .colab-df-convert:hover {\n",
              "      background-color: #434B5C;\n",
              "      box-shadow: 0px 1px 3px 1px rgba(0, 0, 0, 0.15);\n",
              "      filter: drop-shadow(0px 1px 2px rgba(0, 0, 0, 0.3));\n",
              "      fill: #FFFFFF;\n",
              "    }\n",
              "  </style>\n",
              "\n",
              "      <script>\n",
              "        const buttonEl =\n",
              "          document.querySelector('#df-3b08c5b4-9176-449e-8ed2-c9db8ef7475c button.colab-df-convert');\n",
              "        buttonEl.style.display =\n",
              "          google.colab.kernel.accessAllowed ? 'block' : 'none';\n",
              "\n",
              "        async function convertToInteractive(key) {\n",
              "          const element = document.querySelector('#df-3b08c5b4-9176-449e-8ed2-c9db8ef7475c');\n",
              "          const dataTable =\n",
              "            await google.colab.kernel.invokeFunction('convertToInteractive',\n",
              "                                                     [key], {});\n",
              "          if (!dataTable) return;\n",
              "\n",
              "          const docLinkHtml = 'Like what you see? Visit the ' +\n",
              "            '<a target=\"_blank\" href=https://colab.research.google.com/notebooks/data_table.ipynb>data table notebook</a>'\n",
              "            + ' to learn more about interactive tables.';\n",
              "          element.innerHTML = '';\n",
              "          dataTable['output_type'] = 'display_data';\n",
              "          await google.colab.output.renderOutput(dataTable, element);\n",
              "          const docLink = document.createElement('div');\n",
              "          docLink.innerHTML = docLinkHtml;\n",
              "          element.appendChild(docLink);\n",
              "        }\n",
              "      </script>\n",
              "    </div>\n",
              "  </div>\n",
              "  "
            ]
          },
          "metadata": {},
          "execution_count": 15
        }
      ]
    },
    {
      "cell_type": "code",
      "execution_count": 16,
      "metadata": {
        "id": "c0fqXyO6DGQP"
      },
      "outputs": [],
      "source": [
        "# Split our preprocessed data into our features and target arrays\n",
        "y=dummies_df[\"target\"].values \n",
        "X=dummies_df.drop('target', axis = 1)\n",
        "\n",
        "# Split the preprocessed data into a training and testing dataset\n",
        "X_train, X_test, y_train, y_test = train_test_split(X, y, test_size=0.33, random_state= 42)"
      ]
    },
    {
      "cell_type": "code",
      "execution_count": 17,
      "metadata": {
        "id": "nZ0V3iBQDGQQ"
      },
      "outputs": [],
      "source": [
        "# Create a StandardScaler instances\n",
        "scaler = StandardScaler()\n",
        "\n",
        "# Fit the StandardScaler\n",
        "X_scaler = scaler.fit(X_train)\n",
        "\n",
        "# Scale the data\n",
        "X_train_scaled = X_scaler.transform(X_train)\n",
        "X_test_scaled = X_scaler.transform(X_test)"
      ]
    },
    {
      "cell_type": "markdown",
      "source": [
        "# Testing a deep neural network "
      ],
      "metadata": {
        "id": "Omr78YLjIhMX"
      }
    },
    {
      "cell_type": "code",
      "source": [
        "# Define the model - deep neural net, i.e., the number of input features and hidden nodes for each layer.\n",
        "input_layer = len(X_train_scaled[0])\n",
        "hidden_layer_1= 350\n",
        "hidden_layer_2 = 30\n",
        "\n",
        "nn = tf.keras.models.Sequential()\n",
        "\n",
        "# First hidden layer\n",
        "nn.add(tf.keras.layers.Dense(units=hidden_layer_1, activation=\"relu\", input_dim = input_layer))\n",
        "\n",
        "# Second hidden layer\n",
        "nn.add(tf.keras.layers.Dense(units=hidden_layer_2, activation=\"relu\"))\n",
        "\n",
        "# Output layer\n",
        "nn.add(tf.keras.layers.Dense(units=1, activation=\"sigmoid\"))\n",
        "\n",
        "# Check the structure of the model\n",
        "nn.summary()\n",
        "\n",
        "\n",
        "# Compile the model\n",
        "nn.compile(loss=\"binary_crossentropy\", optimizer= \"adam\", metrics=[\"accuracy\"])\n",
        "\n",
        "\n",
        "# Train the model\n",
        "fit_model = nn.fit (X_train_scaled, y_train, epochs= 100)\n",
        "\n",
        "# Evaluate the model using the test data\n",
        "model_loss, model_accuracy = nn.evaluate(X_test_scaled,y_test,verbose=2)\n",
        "print(f\"Loss: {model_loss}, Accuracy: {model_accuracy}\")\n"
      ],
      "metadata": {
        "colab": {
          "base_uri": "https://localhost:8080/"
        },
        "id": "7nsTIs7jHRsy",
        "outputId": "0f87390b-cee6-46a5-9860-4c4f66914071"
      },
      "execution_count": 18,
      "outputs": [
        {
          "output_type": "stream",
          "name": "stdout",
          "text": [
            "Model: \"sequential\"\n",
            "_________________________________________________________________\n",
            " Layer (type)                Output Shape              Param #   \n",
            "=================================================================\n",
            " dense (Dense)               (None, 350)               116900    \n",
            "                                                                 \n",
            " dense_1 (Dense)             (None, 30)                10530     \n",
            "                                                                 \n",
            " dense_2 (Dense)             (None, 1)                 31        \n",
            "                                                                 \n",
            "=================================================================\n",
            "Total params: 127,461\n",
            "Trainable params: 127,461\n",
            "Non-trainable params: 0\n",
            "_________________________________________________________________\n",
            "Epoch 1/100\n",
            "28/28 [==============================] - 1s 4ms/step - loss: 0.4361 - accuracy: 0.8057\n",
            "Epoch 2/100\n",
            "28/28 [==============================] - 0s 4ms/step - loss: 0.1547 - accuracy: 0.9429\n",
            "Epoch 3/100\n",
            "28/28 [==============================] - 0s 4ms/step - loss: 0.1074 - accuracy: 0.9657\n",
            "Epoch 4/100\n",
            "28/28 [==============================] - 0s 4ms/step - loss: 0.0854 - accuracy: 0.9634\n",
            "Epoch 5/100\n",
            "28/28 [==============================] - 0s 2ms/step - loss: 0.0704 - accuracy: 0.9726\n",
            "Epoch 6/100\n",
            "28/28 [==============================] - 0s 3ms/step - loss: 0.0616 - accuracy: 0.9703\n",
            "Epoch 7/100\n",
            "28/28 [==============================] - 0s 2ms/step - loss: 0.0551 - accuracy: 0.9760\n",
            "Epoch 8/100\n",
            "28/28 [==============================] - 0s 2ms/step - loss: 0.0520 - accuracy: 0.9760\n",
            "Epoch 9/100\n",
            "28/28 [==============================] - 0s 2ms/step - loss: 0.0574 - accuracy: 0.9760\n",
            "Epoch 10/100\n",
            "28/28 [==============================] - 0s 3ms/step - loss: 0.0428 - accuracy: 0.9806\n",
            "Epoch 11/100\n",
            "28/28 [==============================] - 0s 3ms/step - loss: 0.0401 - accuracy: 0.9840\n",
            "Epoch 12/100\n",
            "28/28 [==============================] - 0s 3ms/step - loss: 0.0371 - accuracy: 0.9851\n",
            "Epoch 13/100\n",
            "28/28 [==============================] - 0s 3ms/step - loss: 0.0331 - accuracy: 0.9840\n",
            "Epoch 14/100\n",
            "28/28 [==============================] - 0s 2ms/step - loss: 0.0305 - accuracy: 0.9874\n",
            "Epoch 15/100\n",
            "28/28 [==============================] - 0s 4ms/step - loss: 0.0291 - accuracy: 0.9886\n",
            "Epoch 16/100\n",
            "28/28 [==============================] - 0s 3ms/step - loss: 0.0282 - accuracy: 0.9920\n",
            "Epoch 17/100\n",
            "28/28 [==============================] - 0s 7ms/step - loss: 0.0274 - accuracy: 0.9897\n",
            "Epoch 18/100\n",
            "28/28 [==============================] - 0s 4ms/step - loss: 0.0239 - accuracy: 0.9897\n",
            "Epoch 19/100\n",
            "28/28 [==============================] - 0s 3ms/step - loss: 0.0274 - accuracy: 0.9874\n",
            "Epoch 20/100\n",
            "28/28 [==============================] - 0s 3ms/step - loss: 0.0253 - accuracy: 0.9909\n",
            "Epoch 21/100\n",
            "28/28 [==============================] - 0s 3ms/step - loss: 0.0277 - accuracy: 0.9874\n",
            "Epoch 22/100\n",
            "28/28 [==============================] - 0s 3ms/step - loss: 0.0278 - accuracy: 0.9874\n",
            "Epoch 23/100\n",
            "28/28 [==============================] - 0s 3ms/step - loss: 0.0363 - accuracy: 0.9886\n",
            "Epoch 24/100\n",
            "28/28 [==============================] - 0s 2ms/step - loss: 0.0363 - accuracy: 0.9863\n",
            "Epoch 25/100\n",
            "28/28 [==============================] - 0s 2ms/step - loss: 0.0260 - accuracy: 0.9863\n",
            "Epoch 26/100\n",
            "28/28 [==============================] - 0s 2ms/step - loss: 0.0213 - accuracy: 0.9909\n",
            "Epoch 27/100\n",
            "28/28 [==============================] - 0s 3ms/step - loss: 0.0248 - accuracy: 0.9897\n",
            "Epoch 28/100\n",
            "28/28 [==============================] - 0s 3ms/step - loss: 0.0173 - accuracy: 0.9886\n",
            "Epoch 29/100\n",
            "28/28 [==============================] - 0s 3ms/step - loss: 0.0197 - accuracy: 0.9897\n",
            "Epoch 30/100\n",
            "28/28 [==============================] - 0s 3ms/step - loss: 0.0198 - accuracy: 0.9909\n",
            "Epoch 31/100\n",
            "28/28 [==============================] - 0s 3ms/step - loss: 0.0172 - accuracy: 0.9920\n",
            "Epoch 32/100\n",
            "28/28 [==============================] - 0s 2ms/step - loss: 0.0192 - accuracy: 0.9909\n",
            "Epoch 33/100\n",
            "28/28 [==============================] - 0s 3ms/step - loss: 0.0189 - accuracy: 0.9874\n",
            "Epoch 34/100\n",
            "28/28 [==============================] - 0s 2ms/step - loss: 0.0181 - accuracy: 0.9920\n",
            "Epoch 35/100\n",
            "28/28 [==============================] - 0s 3ms/step - loss: 0.0233 - accuracy: 0.9886\n",
            "Epoch 36/100\n",
            "28/28 [==============================] - 0s 3ms/step - loss: 0.0198 - accuracy: 0.9920\n",
            "Epoch 37/100\n",
            "28/28 [==============================] - 0s 3ms/step - loss: 0.0175 - accuracy: 0.9909\n",
            "Epoch 38/100\n",
            "28/28 [==============================] - 0s 3ms/step - loss: 0.0204 - accuracy: 0.9920\n",
            "Epoch 39/100\n",
            "28/28 [==============================] - 0s 2ms/step - loss: 0.0193 - accuracy: 0.9897\n",
            "Epoch 40/100\n",
            "28/28 [==============================] - 0s 3ms/step - loss: 0.0155 - accuracy: 0.9920\n",
            "Epoch 41/100\n",
            "28/28 [==============================] - 0s 3ms/step - loss: 0.0143 - accuracy: 0.9897\n",
            "Epoch 42/100\n",
            "28/28 [==============================] - 0s 3ms/step - loss: 0.0166 - accuracy: 0.9920\n",
            "Epoch 43/100\n",
            "28/28 [==============================] - 0s 2ms/step - loss: 0.0186 - accuracy: 0.9931\n",
            "Epoch 44/100\n",
            "28/28 [==============================] - 0s 2ms/step - loss: 0.0159 - accuracy: 0.9920\n",
            "Epoch 45/100\n",
            "28/28 [==============================] - 0s 2ms/step - loss: 0.0151 - accuracy: 0.9920\n",
            "Epoch 46/100\n",
            "28/28 [==============================] - 0s 3ms/step - loss: 0.0167 - accuracy: 0.9909\n",
            "Epoch 47/100\n",
            "28/28 [==============================] - 0s 2ms/step - loss: 0.0160 - accuracy: 0.9886\n",
            "Epoch 48/100\n",
            "28/28 [==============================] - 0s 3ms/step - loss: 0.0154 - accuracy: 0.9920\n",
            "Epoch 49/100\n",
            "28/28 [==============================] - 0s 3ms/step - loss: 0.0151 - accuracy: 0.9909\n",
            "Epoch 50/100\n",
            "28/28 [==============================] - 0s 3ms/step - loss: 0.0164 - accuracy: 0.9874\n",
            "Epoch 51/100\n",
            "28/28 [==============================] - 0s 2ms/step - loss: 0.0125 - accuracy: 0.9931\n",
            "Epoch 52/100\n",
            "28/28 [==============================] - 0s 3ms/step - loss: 0.0157 - accuracy: 0.9897\n",
            "Epoch 53/100\n",
            "28/28 [==============================] - 0s 3ms/step - loss: 0.0199 - accuracy: 0.9909\n",
            "Epoch 54/100\n",
            "28/28 [==============================] - 0s 2ms/step - loss: 0.0151 - accuracy: 0.9920\n",
            "Epoch 55/100\n",
            "28/28 [==============================] - 0s 3ms/step - loss: 0.0147 - accuracy: 0.9909\n",
            "Epoch 56/100\n",
            "28/28 [==============================] - 0s 3ms/step - loss: 0.0190 - accuracy: 0.9920\n",
            "Epoch 57/100\n",
            "28/28 [==============================] - 0s 3ms/step - loss: 0.0164 - accuracy: 0.9909\n",
            "Epoch 58/100\n",
            "28/28 [==============================] - 0s 2ms/step - loss: 0.0134 - accuracy: 0.9920\n",
            "Epoch 59/100\n",
            "28/28 [==============================] - 0s 2ms/step - loss: 0.0145 - accuracy: 0.9909\n",
            "Epoch 60/100\n",
            "28/28 [==============================] - 0s 3ms/step - loss: 0.0159 - accuracy: 0.9909\n",
            "Epoch 61/100\n",
            "28/28 [==============================] - 0s 3ms/step - loss: 0.0149 - accuracy: 0.9897\n",
            "Epoch 62/100\n",
            "28/28 [==============================] - 0s 2ms/step - loss: 0.0139 - accuracy: 0.9909\n",
            "Epoch 63/100\n",
            "28/28 [==============================] - 0s 3ms/step - loss: 0.0141 - accuracy: 0.9897\n",
            "Epoch 64/100\n",
            "28/28 [==============================] - 0s 2ms/step - loss: 0.0142 - accuracy: 0.9909\n",
            "Epoch 65/100\n",
            "28/28 [==============================] - 0s 3ms/step - loss: 0.0121 - accuracy: 0.9920\n",
            "Epoch 66/100\n",
            "28/28 [==============================] - 0s 3ms/step - loss: 0.0140 - accuracy: 0.9909\n",
            "Epoch 67/100\n",
            "28/28 [==============================] - 0s 3ms/step - loss: 0.0163 - accuracy: 0.9897\n",
            "Epoch 68/100\n",
            "28/28 [==============================] - 0s 2ms/step - loss: 0.0150 - accuracy: 0.9897\n",
            "Epoch 69/100\n",
            "28/28 [==============================] - 0s 3ms/step - loss: 0.0132 - accuracy: 0.9886\n",
            "Epoch 70/100\n",
            "28/28 [==============================] - 0s 2ms/step - loss: 0.0134 - accuracy: 0.9909\n",
            "Epoch 71/100\n",
            "28/28 [==============================] - 0s 3ms/step - loss: 0.0137 - accuracy: 0.9897\n",
            "Epoch 72/100\n",
            "28/28 [==============================] - 0s 3ms/step - loss: 0.0131 - accuracy: 0.9909\n",
            "Epoch 73/100\n",
            "28/28 [==============================] - 0s 3ms/step - loss: 0.0141 - accuracy: 0.9886\n",
            "Epoch 74/100\n",
            "28/28 [==============================] - 0s 3ms/step - loss: 0.0135 - accuracy: 0.9909\n",
            "Epoch 75/100\n",
            "28/28 [==============================] - 0s 3ms/step - loss: 0.0153 - accuracy: 0.9909\n",
            "Epoch 76/100\n",
            "28/28 [==============================] - 0s 3ms/step - loss: 0.0131 - accuracy: 0.9920\n",
            "Epoch 77/100\n",
            "28/28 [==============================] - 0s 2ms/step - loss: 0.0144 - accuracy: 0.9931\n",
            "Epoch 78/100\n",
            "28/28 [==============================] - 0s 3ms/step - loss: 0.0138 - accuracy: 0.9897\n",
            "Epoch 79/100\n",
            "28/28 [==============================] - 0s 3ms/step - loss: 0.0135 - accuracy: 0.9886\n",
            "Epoch 80/100\n",
            "28/28 [==============================] - 0s 3ms/step - loss: 0.0123 - accuracy: 0.9909\n",
            "Epoch 81/100\n",
            "28/28 [==============================] - 0s 3ms/step - loss: 0.0131 - accuracy: 0.9897\n",
            "Epoch 82/100\n",
            "28/28 [==============================] - 0s 3ms/step - loss: 0.0154 - accuracy: 0.9897\n",
            "Epoch 83/100\n",
            "28/28 [==============================] - 0s 3ms/step - loss: 0.0130 - accuracy: 0.9920\n",
            "Epoch 84/100\n",
            "28/28 [==============================] - 0s 3ms/step - loss: 0.0144 - accuracy: 0.9909\n",
            "Epoch 85/100\n",
            "28/28 [==============================] - 0s 3ms/step - loss: 0.0138 - accuracy: 0.9909\n",
            "Epoch 86/100\n",
            "28/28 [==============================] - 0s 2ms/step - loss: 0.0127 - accuracy: 0.9909\n",
            "Epoch 87/100\n",
            "28/28 [==============================] - 0s 3ms/step - loss: 0.0118 - accuracy: 0.9931\n",
            "Epoch 88/100\n",
            "28/28 [==============================] - 0s 2ms/step - loss: 0.0125 - accuracy: 0.9909\n",
            "Epoch 89/100\n",
            "28/28 [==============================] - 0s 2ms/step - loss: 0.0127 - accuracy: 0.9886\n",
            "Epoch 90/100\n",
            "28/28 [==============================] - 0s 2ms/step - loss: 0.0132 - accuracy: 0.9931\n",
            "Epoch 91/100\n",
            "28/28 [==============================] - 0s 3ms/step - loss: 0.0132 - accuracy: 0.9920\n",
            "Epoch 92/100\n",
            "28/28 [==============================] - 0s 3ms/step - loss: 0.0126 - accuracy: 0.9897\n",
            "Epoch 93/100\n",
            "28/28 [==============================] - 0s 3ms/step - loss: 0.0113 - accuracy: 0.9931\n",
            "Epoch 94/100\n",
            "28/28 [==============================] - 0s 3ms/step - loss: 0.0124 - accuracy: 0.9909\n",
            "Epoch 95/100\n",
            "28/28 [==============================] - 0s 3ms/step - loss: 0.0120 - accuracy: 0.9931\n",
            "Epoch 96/100\n",
            "28/28 [==============================] - 0s 2ms/step - loss: 0.0120 - accuracy: 0.9920\n",
            "Epoch 97/100\n",
            "28/28 [==============================] - 0s 3ms/step - loss: 0.0115 - accuracy: 0.9909\n",
            "Epoch 98/100\n",
            "28/28 [==============================] - 0s 3ms/step - loss: 0.0112 - accuracy: 0.9909\n",
            "Epoch 99/100\n",
            "28/28 [==============================] - 0s 3ms/step - loss: 0.0113 - accuracy: 0.9931\n",
            "Epoch 100/100\n",
            "28/28 [==============================] - 0s 2ms/step - loss: 0.0121 - accuracy: 0.9886\n",
            "14/14 - 0s - loss: 1.1139 - accuracy: 0.8472 - 126ms/epoch - 9ms/step\n",
            "Loss: 1.1138883829116821, Accuracy: 0.8472222089767456\n"
          ]
        }
      ]
    },
    {
      "cell_type": "markdown",
      "source": [
        "# Testing Logistic Regression"
      ],
      "metadata": {
        "id": "bt92NSKHIpac"
      }
    },
    {
      "cell_type": "code",
      "source": [
        "# Import the LogisticRegression module from SKLearn\n",
        "from sklearn.linear_model import LogisticRegression\n",
        "\n",
        "# Instantiate the Logistic Regression model\n",
        "# Assign a random_state parameter of 1 to the model\n",
        "logistic_regression_model = LogisticRegression(random_state=1)\n",
        "\n",
        "# Fit the model using training data\n",
        "lr_model = logistic_regression_model.fit(X_train, y_train)"
      ],
      "metadata": {
        "id": "ESfmahYVIulZ"
      },
      "execution_count": 19,
      "outputs": []
    },
    {
      "cell_type": "code",
      "source": [
        "# Make a prediction using the testing data\n",
        "testing_predictions = logistic_regression_model.predict(X_test)\n",
        "\n",
        "testing_predictions"
      ],
      "metadata": {
        "colab": {
          "base_uri": "https://localhost:8080/"
        },
        "id": "FTTCSGWEI1dN",
        "outputId": "2e2b1f8d-4e6b-4cd6-91aa-8db4c83df68d"
      },
      "execution_count": 20,
      "outputs": [
        {
          "output_type": "execute_result",
          "data": {
            "text/plain": [
              "array([1, 1, 1, 1, 1, 0, 1, 1, 1, 1, 1, 1, 1, 1, 1, 1, 1, 1, 1, 0, 1, 0,\n",
              "       1, 0, 0, 1, 1, 1, 1, 0, 1, 1, 0, 1, 0, 1, 0, 1, 1, 0, 1, 1, 1, 1,\n",
              "       1, 0, 1, 1, 1, 1, 1, 0, 1, 1, 1, 1, 1, 1, 1, 1, 1, 0, 0, 0, 0, 1,\n",
              "       1, 1, 1, 1, 1, 1, 1, 1, 0, 1, 1, 1, 0, 1, 1, 1, 0, 0, 1, 0, 0, 1,\n",
              "       0, 0, 1, 0, 1, 0, 1, 0, 0, 1, 0, 0, 1, 1, 1, 1, 1, 1, 0, 1, 0, 0,\n",
              "       0, 1, 1, 1, 1, 1, 1, 1, 0, 0, 1, 0, 1, 1, 1, 1, 1, 1, 1, 1, 1, 1,\n",
              "       0, 0, 1, 1, 0, 1, 0, 1, 1, 1, 1, 1, 0, 0, 1, 1, 1, 1, 1, 0, 1, 1,\n",
              "       0, 1, 0, 1, 1, 0, 1, 0, 1, 1, 1, 0, 1, 0, 1, 0, 0, 0, 1, 1, 1, 1,\n",
              "       0, 1, 1, 1, 1, 0, 1, 1, 1, 1, 0, 1, 0, 1, 0, 0, 1, 1, 1, 1, 1, 1,\n",
              "       0, 1, 1, 0, 0, 1, 1, 1, 0, 1, 1, 1, 0, 1, 1, 1, 1, 1, 1, 1, 1, 0,\n",
              "       1, 0, 1, 1, 1, 0, 1, 1, 1, 0, 0, 0, 0, 1, 1, 1, 1, 0, 1, 1, 1, 1,\n",
              "       1, 0, 1, 1, 1, 1, 1, 1, 1, 1, 1, 1, 0, 1, 1, 1, 1, 1, 0, 1, 1, 1,\n",
              "       1, 0, 1, 1, 1, 1, 0, 1, 1, 1, 1, 1, 1, 1, 0, 1, 1, 1, 1, 1, 0, 1,\n",
              "       1, 0, 0, 0, 1, 1, 1, 1, 1, 1, 0, 1, 0, 0, 0, 1, 1, 1, 0, 1, 0, 1,\n",
              "       1, 0, 1, 1, 1, 1, 1, 1, 1, 1, 1, 1, 1, 1, 1, 1, 0, 0, 1, 1, 1, 0,\n",
              "       0, 1, 1, 0, 1, 1, 1, 1, 0, 1, 1, 1, 0, 1, 1, 1, 0, 0, 0, 1, 0, 1,\n",
              "       1, 1, 1, 1, 0, 1, 1, 0, 1, 1, 1, 1, 1, 0, 1, 1, 0, 0, 1, 1, 0, 1,\n",
              "       0, 0, 1, 1, 0, 1, 1, 1, 0, 1, 0, 1, 1, 1, 1, 1, 1, 0, 0, 0, 0, 1,\n",
              "       1, 1, 0, 0, 1, 1, 1, 0, 0, 1, 0, 1, 1, 1, 1, 0, 0, 0, 0, 0, 0, 1,\n",
              "       1, 0, 0, 0, 1, 1, 1, 0, 0, 1, 0, 1, 1, 1])"
            ]
          },
          "metadata": {},
          "execution_count": 20
        }
      ]
    },
    {
      "cell_type": "code",
      "source": [
        "# Print the balanced_accuracy score of the model\n",
        "from sklearn.metrics import balanced_accuracy_score\n",
        "balanced_accuracy_score(y_test, testing_predictions)"
      ],
      "metadata": {
        "colab": {
          "base_uri": "https://localhost:8080/"
        },
        "id": "ZW5yveIPI1kb",
        "outputId": "0815c2ae-39de-469f-d9bf-828890df446a"
      },
      "execution_count": 21,
      "outputs": [
        {
          "output_type": "execute_result",
          "data": {
            "text/plain": [
              "0.8558707045794105"
            ]
          },
          "metadata": {},
          "execution_count": 21
        }
      ]
    },
    {
      "cell_type": "code",
      "source": [
        "# Generate a confusion matrix for the model\n",
        "from sklearn.metrics import confusion_matrix\n",
        "\n",
        "\n",
        "training_matrix = confusion_matrix(y_test, testing_predictions)\n",
        "\n",
        "\n",
        "print(training_matrix)"
      ],
      "metadata": {
        "colab": {
          "base_uri": "https://localhost:8080/"
        },
        "id": "lLthekLlI19z",
        "outputId": "112a67e4-7909-4027-b165-aee7bb6509cf"
      },
      "execution_count": 22,
      "outputs": [
        {
          "output_type": "stream",
          "name": "stdout",
          "text": [
            "[[115  34]\n",
            " [ 17 266]]\n"
          ]
        }
      ]
    },
    {
      "cell_type": "code",
      "source": [
        "# Print the classification report for the model\n",
        "testing_report = classification_report(y_test, testing_predictions)\n",
        "\n",
        "# Print the testing classification report\n",
        "print(testing_report)"
      ],
      "metadata": {
        "colab": {
          "base_uri": "https://localhost:8080/"
        },
        "id": "M00qiKtaJE8s",
        "outputId": "1dc539b3-585e-4f0d-aa1c-2647104a2491"
      },
      "execution_count": 23,
      "outputs": [
        {
          "output_type": "stream",
          "name": "stdout",
          "text": [
            "              precision    recall  f1-score   support\n",
            "\n",
            "           0       0.87      0.77      0.82       149\n",
            "           1       0.89      0.94      0.91       283\n",
            "\n",
            "    accuracy                           0.88       432\n",
            "   macro avg       0.88      0.86      0.87       432\n",
            "weighted avg       0.88      0.88      0.88       432\n",
            "\n"
          ]
        }
      ]
    },
    {
      "cell_type": "markdown",
      "source": [
        "# Testing Logistic Regression after Over Sampling the Data "
      ],
      "metadata": {
        "id": "rVojaTdKJjSm"
      }
    },
    {
      "cell_type": "code",
      "source": [
        "# Import the RandomOverSampler module form imbalanced-learn\n",
        "from imblearn.over_sampling import RandomOverSampler\n",
        "\n",
        "# Instantiate the random oversampler model\n",
        "# # Assign a random_state parameter of 1 to the model\n",
        "oversample = RandomOverSampler(sampling_strategy='minority',random_state=1)\n",
        "\n",
        "# Fit the original training data to the random_oversampler model\n",
        "X_over, y_over = oversample.fit_resample(X_train, y_train)"
      ],
      "metadata": {
        "id": "nqFPoTGNJFIr"
      },
      "execution_count": 24,
      "outputs": []
    },
    {
      "cell_type": "code",
      "source": [
        "# Instantiate the Logistic Regression model\n",
        "# Assign a random_state parameter of 1 to the model\n",
        "logistic_regression_model = LogisticRegression(random_state=1)\n",
        "\n",
        "# Fit the model using the resampled training data\n",
        "lr_model = logistic_regression_model.fit(X_over, y_over)\n",
        "\n",
        "# Make a prediction using the testing data\n",
        "testing_predictions = logistic_regression_model.predict(X_test)\n",
        "\n",
        "testing_predictions"
      ],
      "metadata": {
        "colab": {
          "base_uri": "https://localhost:8080/"
        },
        "id": "H0OKr1r7JFM6",
        "outputId": "6eec68bf-3635-4f7e-bec5-f134ddbb723d"
      },
      "execution_count": 25,
      "outputs": [
        {
          "output_type": "execute_result",
          "data": {
            "text/plain": [
              "array([1, 1, 1, 1, 1, 0, 1, 1, 1, 1, 1, 1, 1, 1, 1, 1, 1, 1, 1, 0, 1, 0,\n",
              "       1, 0, 0, 1, 1, 1, 1, 0, 1, 1, 0, 1, 0, 1, 0, 1, 1, 0, 1, 1, 1, 1,\n",
              "       1, 0, 1, 1, 1, 1, 1, 0, 1, 1, 1, 1, 1, 1, 1, 1, 0, 0, 0, 0, 0, 1,\n",
              "       1, 1, 1, 1, 1, 1, 1, 1, 0, 1, 1, 1, 0, 1, 1, 1, 0, 0, 1, 0, 0, 1,\n",
              "       0, 0, 1, 0, 1, 0, 1, 0, 0, 1, 0, 0, 1, 1, 1, 1, 1, 1, 0, 1, 0, 0,\n",
              "       0, 1, 1, 1, 1, 1, 1, 1, 0, 0, 1, 0, 0, 1, 1, 1, 1, 1, 1, 1, 1, 1,\n",
              "       0, 0, 1, 1, 0, 1, 0, 1, 1, 1, 1, 1, 0, 0, 1, 1, 1, 1, 1, 0, 1, 1,\n",
              "       0, 1, 0, 1, 1, 0, 1, 0, 1, 1, 1, 0, 1, 0, 1, 0, 0, 0, 1, 1, 1, 1,\n",
              "       0, 1, 1, 1, 1, 0, 1, 1, 1, 1, 0, 1, 0, 1, 0, 0, 1, 1, 1, 1, 1, 1,\n",
              "       0, 1, 1, 0, 0, 1, 1, 1, 0, 1, 1, 1, 0, 1, 1, 1, 1, 1, 1, 1, 1, 0,\n",
              "       1, 0, 1, 1, 1, 0, 1, 1, 1, 0, 0, 0, 0, 1, 1, 1, 1, 0, 1, 1, 1, 1,\n",
              "       1, 0, 1, 1, 1, 1, 1, 1, 1, 1, 1, 1, 0, 1, 1, 1, 1, 1, 0, 1, 1, 1,\n",
              "       1, 0, 1, 1, 1, 1, 0, 1, 1, 1, 1, 1, 1, 1, 0, 1, 1, 1, 1, 1, 0, 1,\n",
              "       1, 0, 0, 0, 1, 1, 1, 1, 1, 1, 0, 1, 0, 0, 0, 1, 1, 1, 0, 1, 0, 1,\n",
              "       1, 0, 1, 1, 1, 1, 1, 1, 1, 1, 1, 1, 0, 1, 1, 1, 0, 0, 1, 1, 1, 0,\n",
              "       0, 1, 1, 0, 0, 1, 1, 0, 0, 1, 1, 1, 0, 1, 1, 1, 0, 0, 0, 1, 0, 1,\n",
              "       1, 1, 1, 1, 0, 1, 1, 0, 1, 1, 1, 1, 1, 0, 1, 1, 0, 0, 1, 1, 0, 1,\n",
              "       0, 0, 1, 1, 0, 1, 1, 1, 0, 1, 0, 1, 1, 0, 0, 1, 1, 0, 0, 0, 0, 1,\n",
              "       1, 1, 0, 0, 1, 1, 0, 0, 0, 1, 0, 1, 1, 1, 1, 0, 0, 0, 0, 0, 0, 1,\n",
              "       1, 0, 0, 0, 1, 1, 1, 0, 0, 1, 0, 1, 1, 1])"
            ]
          },
          "metadata": {},
          "execution_count": 25
        }
      ]
    },
    {
      "cell_type": "code",
      "source": [
        "# Print the balanced_accuracy score of the model \n",
        "balanced_accuracy_score(y_test, testing_predictions)"
      ],
      "metadata": {
        "colab": {
          "base_uri": "https://localhost:8080/"
        },
        "id": "GIiL8mNKJFVR",
        "outputId": "b150864a-d7e4-4661-dd25-b96ac66af198"
      },
      "execution_count": 26,
      "outputs": [
        {
          "output_type": "execute_result",
          "data": {
            "text/plain": [
              "0.8468589181113193"
            ]
          },
          "metadata": {},
          "execution_count": 26
        }
      ]
    },
    {
      "cell_type": "code",
      "source": [
        "# Generate a confusion matrix for the model\n",
        "training_matrix = confusion_matrix(y_test, testing_predictions)\n",
        "\n",
        "\n",
        "print(training_matrix)"
      ],
      "metadata": {
        "colab": {
          "base_uri": "https://localhost:8080/"
        },
        "id": "Lj72MN1BJyda",
        "outputId": "ffafe7c5-a358-4667-8d8b-0eb6b2c42510"
      },
      "execution_count": 27,
      "outputs": [
        {
          "output_type": "stream",
          "name": "stdout",
          "text": [
            "[[116  33]\n",
            " [ 24 259]]\n"
          ]
        }
      ]
    },
    {
      "cell_type": "code",
      "source": [
        "# Print the classification report for the model\n",
        "testing_report = classification_report(y_test, testing_predictions)\n",
        "\n",
        "# Print the testing classification report\n",
        "print(testing_report)"
      ],
      "metadata": {
        "colab": {
          "base_uri": "https://localhost:8080/"
        },
        "id": "BtzHJcX7JygQ",
        "outputId": "eecbcada-381a-45ea-ef31-b3a1af7c462b"
      },
      "execution_count": 28,
      "outputs": [
        {
          "output_type": "stream",
          "name": "stdout",
          "text": [
            "              precision    recall  f1-score   support\n",
            "\n",
            "           0       0.83      0.78      0.80       149\n",
            "           1       0.89      0.92      0.90       283\n",
            "\n",
            "    accuracy                           0.87       432\n",
            "   macro avg       0.86      0.85      0.85       432\n",
            "weighted avg       0.87      0.87      0.87       432\n",
            "\n"
          ]
        }
      ]
    },
    {
      "cell_type": "code",
      "source": [],
      "metadata": {
        "id": "wiixDG8yJyjo"
      },
      "execution_count": null,
      "outputs": []
    }
  ],
  "metadata": {
    "kernelspec": {
      "display_name": "PythonData310",
      "language": "python",
      "name": "python3"
    },
    "language_info": {
      "codemirror_mode": {
        "name": "ipython",
        "version": 3
      },
      "file_extension": ".py",
      "mimetype": "text/x-python",
      "name": "python",
      "nbconvert_exporter": "python",
      "pygments_lexer": "ipython3",
      "version": "3.10.11"
    },
    "orig_nbformat": 4,
    "colab": {
      "provenance": []
    }
  },
  "nbformat": 4,
  "nbformat_minor": 0
}