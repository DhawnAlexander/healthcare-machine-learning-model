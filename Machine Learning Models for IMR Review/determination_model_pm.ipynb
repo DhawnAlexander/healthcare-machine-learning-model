{
  "nbformat": 4,
  "nbformat_minor": 0,
  "metadata": {
    "colab": {
      "provenance": []
    },
    "kernelspec": {
      "name": "python3",
      "display_name": "Python 3"
    },
    "language_info": {
      "name": "python"
    }
  },
  "cells": [
    {
      "cell_type": "code",
      "execution_count": 1,
      "metadata": {
        "id": "2qvmnWUlDPsj",
        "colab": {
          "base_uri": "https://localhost:8080/",
          "height": 74
        },
        "outputId": "dea3484e-964e-4ab5-b552-d5343655e4d2"
      },
      "outputs": [
        {
          "output_type": "display_data",
          "data": {
            "text/plain": [
              "<IPython.core.display.HTML object>"
            ],
            "text/html": [
              "\n",
              "     <input type=\"file\" id=\"files-c854b923-6a34-4dc2-b585-ef4462fce6a4\" name=\"files[]\" multiple disabled\n",
              "        style=\"border:none\" />\n",
              "     <output id=\"result-c854b923-6a34-4dc2-b585-ef4462fce6a4\">\n",
              "      Upload widget is only available when the cell has been executed in the\n",
              "      current browser session. Please rerun this cell to enable.\n",
              "      </output>\n",
              "      <script>// Copyright 2017 Google LLC\n",
              "//\n",
              "// Licensed under the Apache License, Version 2.0 (the \"License\");\n",
              "// you may not use this file except in compliance with the License.\n",
              "// You may obtain a copy of the License at\n",
              "//\n",
              "//      http://www.apache.org/licenses/LICENSE-2.0\n",
              "//\n",
              "// Unless required by applicable law or agreed to in writing, software\n",
              "// distributed under the License is distributed on an \"AS IS\" BASIS,\n",
              "// WITHOUT WARRANTIES OR CONDITIONS OF ANY KIND, either express or implied.\n",
              "// See the License for the specific language governing permissions and\n",
              "// limitations under the License.\n",
              "\n",
              "/**\n",
              " * @fileoverview Helpers for google.colab Python module.\n",
              " */\n",
              "(function(scope) {\n",
              "function span(text, styleAttributes = {}) {\n",
              "  const element = document.createElement('span');\n",
              "  element.textContent = text;\n",
              "  for (const key of Object.keys(styleAttributes)) {\n",
              "    element.style[key] = styleAttributes[key];\n",
              "  }\n",
              "  return element;\n",
              "}\n",
              "\n",
              "// Max number of bytes which will be uploaded at a time.\n",
              "const MAX_PAYLOAD_SIZE = 100 * 1024;\n",
              "\n",
              "function _uploadFiles(inputId, outputId) {\n",
              "  const steps = uploadFilesStep(inputId, outputId);\n",
              "  const outputElement = document.getElementById(outputId);\n",
              "  // Cache steps on the outputElement to make it available for the next call\n",
              "  // to uploadFilesContinue from Python.\n",
              "  outputElement.steps = steps;\n",
              "\n",
              "  return _uploadFilesContinue(outputId);\n",
              "}\n",
              "\n",
              "// This is roughly an async generator (not supported in the browser yet),\n",
              "// where there are multiple asynchronous steps and the Python side is going\n",
              "// to poll for completion of each step.\n",
              "// This uses a Promise to block the python side on completion of each step,\n",
              "// then passes the result of the previous step as the input to the next step.\n",
              "function _uploadFilesContinue(outputId) {\n",
              "  const outputElement = document.getElementById(outputId);\n",
              "  const steps = outputElement.steps;\n",
              "\n",
              "  const next = steps.next(outputElement.lastPromiseValue);\n",
              "  return Promise.resolve(next.value.promise).then((value) => {\n",
              "    // Cache the last promise value to make it available to the next\n",
              "    // step of the generator.\n",
              "    outputElement.lastPromiseValue = value;\n",
              "    return next.value.response;\n",
              "  });\n",
              "}\n",
              "\n",
              "/**\n",
              " * Generator function which is called between each async step of the upload\n",
              " * process.\n",
              " * @param {string} inputId Element ID of the input file picker element.\n",
              " * @param {string} outputId Element ID of the output display.\n",
              " * @return {!Iterable<!Object>} Iterable of next steps.\n",
              " */\n",
              "function* uploadFilesStep(inputId, outputId) {\n",
              "  const inputElement = document.getElementById(inputId);\n",
              "  inputElement.disabled = false;\n",
              "\n",
              "  const outputElement = document.getElementById(outputId);\n",
              "  outputElement.innerHTML = '';\n",
              "\n",
              "  const pickedPromise = new Promise((resolve) => {\n",
              "    inputElement.addEventListener('change', (e) => {\n",
              "      resolve(e.target.files);\n",
              "    });\n",
              "  });\n",
              "\n",
              "  const cancel = document.createElement('button');\n",
              "  inputElement.parentElement.appendChild(cancel);\n",
              "  cancel.textContent = 'Cancel upload';\n",
              "  const cancelPromise = new Promise((resolve) => {\n",
              "    cancel.onclick = () => {\n",
              "      resolve(null);\n",
              "    };\n",
              "  });\n",
              "\n",
              "  // Wait for the user to pick the files.\n",
              "  const files = yield {\n",
              "    promise: Promise.race([pickedPromise, cancelPromise]),\n",
              "    response: {\n",
              "      action: 'starting',\n",
              "    }\n",
              "  };\n",
              "\n",
              "  cancel.remove();\n",
              "\n",
              "  // Disable the input element since further picks are not allowed.\n",
              "  inputElement.disabled = true;\n",
              "\n",
              "  if (!files) {\n",
              "    return {\n",
              "      response: {\n",
              "        action: 'complete',\n",
              "      }\n",
              "    };\n",
              "  }\n",
              "\n",
              "  for (const file of files) {\n",
              "    const li = document.createElement('li');\n",
              "    li.append(span(file.name, {fontWeight: 'bold'}));\n",
              "    li.append(span(\n",
              "        `(${file.type || 'n/a'}) - ${file.size} bytes, ` +\n",
              "        `last modified: ${\n",
              "            file.lastModifiedDate ? file.lastModifiedDate.toLocaleDateString() :\n",
              "                                    'n/a'} - `));\n",
              "    const percent = span('0% done');\n",
              "    li.appendChild(percent);\n",
              "\n",
              "    outputElement.appendChild(li);\n",
              "\n",
              "    const fileDataPromise = new Promise((resolve) => {\n",
              "      const reader = new FileReader();\n",
              "      reader.onload = (e) => {\n",
              "        resolve(e.target.result);\n",
              "      };\n",
              "      reader.readAsArrayBuffer(file);\n",
              "    });\n",
              "    // Wait for the data to be ready.\n",
              "    let fileData = yield {\n",
              "      promise: fileDataPromise,\n",
              "      response: {\n",
              "        action: 'continue',\n",
              "      }\n",
              "    };\n",
              "\n",
              "    // Use a chunked sending to avoid message size limits. See b/62115660.\n",
              "    let position = 0;\n",
              "    do {\n",
              "      const length = Math.min(fileData.byteLength - position, MAX_PAYLOAD_SIZE);\n",
              "      const chunk = new Uint8Array(fileData, position, length);\n",
              "      position += length;\n",
              "\n",
              "      const base64 = btoa(String.fromCharCode.apply(null, chunk));\n",
              "      yield {\n",
              "        response: {\n",
              "          action: 'append',\n",
              "          file: file.name,\n",
              "          data: base64,\n",
              "        },\n",
              "      };\n",
              "\n",
              "      let percentDone = fileData.byteLength === 0 ?\n",
              "          100 :\n",
              "          Math.round((position / fileData.byteLength) * 100);\n",
              "      percent.textContent = `${percentDone}% done`;\n",
              "\n",
              "    } while (position < fileData.byteLength);\n",
              "  }\n",
              "\n",
              "  // All done.\n",
              "  yield {\n",
              "    response: {\n",
              "      action: 'complete',\n",
              "    }\n",
              "  };\n",
              "}\n",
              "\n",
              "scope.google = scope.google || {};\n",
              "scope.google.colab = scope.google.colab || {};\n",
              "scope.google.colab._files = {\n",
              "  _uploadFiles,\n",
              "  _uploadFilesContinue,\n",
              "};\n",
              "})(self);\n",
              "</script> "
            ]
          },
          "metadata": {}
        },
        {
          "output_type": "stream",
          "name": "stdout",
          "text": [
            "Saving urgentcare_clean.csv to urgentcare_clean (2).csv\n"
          ]
        }
      ],
      "source": [
        "# import dependencies \n",
        "from google.colab import files\n",
        "uploaded = files.upload()\n",
        "from sklearn.model_selection import train_test_split\n",
        "from sklearn.preprocessing import StandardScaler\n",
        "from sklearn.metrics import balanced_accuracy_score, confusion_matrix, classification_report\n",
        "import pandas as pd\n",
        "import io\n",
        "import tensorflow as tf\n",
        "import plotly as plt"
      ]
    },
    {
      "cell_type": "code",
      "source": [
        "#  read in the csv\n",
        "urgentcare_df = pd.read_csv(io.StringIO(uploaded[\"urgentcare_clean.csv\"].decode(\"utf-8\")), sep = \",\")\n",
        "urgentcare_df.head()"
      ],
      "metadata": {
        "id": "c3dQlSrpDZJO",
        "colab": {
          "base_uri": "https://localhost:8080/",
          "height": 392
        },
        "outputId": "2039d0d1-1055-4c3f-a4df-a2531f043311"
      },
      "execution_count": 2,
      "outputs": [
        {
          "output_type": "execute_result",
          "data": {
            "text/plain": [
              "       diagnosis_category diagnosis_sub_category  \\\n",
              "0              Infectious              Hepatitis   \n",
              "1                  Mental        Eating Disorder   \n",
              "2         Autism Spectrum         Autism-PDD-NOS   \n",
              "3  Prevention/Good Health                    NaN   \n",
              "4  Prevention/Good Health                    NaN   \n",
              "\n",
              "                          treatment_category  \\\n",
              "0                Pharmacy/Prescription Drugs   \n",
              "1                    Mental Health Treatment   \n",
              "2                   Autism Related Treatment   \n",
              "3  Diagnostic Imaging, Screening and Testing   \n",
              "4  Diagnostic Imaging, Screening and Testing   \n",
              "\n",
              "                     treatment_sub_category  \\\n",
              "0                               Anti-virals   \n",
              "1  Residential Treatment Center - Admission   \n",
              "2                            Speech Therapy   \n",
              "3                               Mammography   \n",
              "4                                  Lab Work   \n",
              "\n",
              "                        determination                          type age_range  \\\n",
              "0  Overturned Decision of Health Plan             Medical Necessity     41-50   \n",
              "1      Upheld Decision of Health Plan             Medical Necessity     21-30   \n",
              "2      Upheld Decision of Health Plan             Medical Necessity      0-10   \n",
              "3  Overturned Decision of Health Plan  Experimental/Investigational       65+   \n",
              "4      Upheld Decision of Health Plan  Experimental/Investigational     21-30   \n",
              "\n",
              "  patient_gender  \n",
              "0           Male  \n",
              "1         Female  \n",
              "2         Female  \n",
              "3         Female  \n",
              "4           Male  "
            ],
            "text/html": [
              "\n",
              "  <div id=\"df-3db6adc7-8ffd-45e1-ac4e-caae390603d9\">\n",
              "    <div class=\"colab-df-container\">\n",
              "      <div>\n",
              "<style scoped>\n",
              "    .dataframe tbody tr th:only-of-type {\n",
              "        vertical-align: middle;\n",
              "    }\n",
              "\n",
              "    .dataframe tbody tr th {\n",
              "        vertical-align: top;\n",
              "    }\n",
              "\n",
              "    .dataframe thead th {\n",
              "        text-align: right;\n",
              "    }\n",
              "</style>\n",
              "<table border=\"1\" class=\"dataframe\">\n",
              "  <thead>\n",
              "    <tr style=\"text-align: right;\">\n",
              "      <th></th>\n",
              "      <th>diagnosis_category</th>\n",
              "      <th>diagnosis_sub_category</th>\n",
              "      <th>treatment_category</th>\n",
              "      <th>treatment_sub_category</th>\n",
              "      <th>determination</th>\n",
              "      <th>type</th>\n",
              "      <th>age_range</th>\n",
              "      <th>patient_gender</th>\n",
              "    </tr>\n",
              "  </thead>\n",
              "  <tbody>\n",
              "    <tr>\n",
              "      <th>0</th>\n",
              "      <td>Infectious</td>\n",
              "      <td>Hepatitis</td>\n",
              "      <td>Pharmacy/Prescription Drugs</td>\n",
              "      <td>Anti-virals</td>\n",
              "      <td>Overturned Decision of Health Plan</td>\n",
              "      <td>Medical Necessity</td>\n",
              "      <td>41-50</td>\n",
              "      <td>Male</td>\n",
              "    </tr>\n",
              "    <tr>\n",
              "      <th>1</th>\n",
              "      <td>Mental</td>\n",
              "      <td>Eating Disorder</td>\n",
              "      <td>Mental Health Treatment</td>\n",
              "      <td>Residential Treatment Center - Admission</td>\n",
              "      <td>Upheld Decision of Health Plan</td>\n",
              "      <td>Medical Necessity</td>\n",
              "      <td>21-30</td>\n",
              "      <td>Female</td>\n",
              "    </tr>\n",
              "    <tr>\n",
              "      <th>2</th>\n",
              "      <td>Autism Spectrum</td>\n",
              "      <td>Autism-PDD-NOS</td>\n",
              "      <td>Autism Related Treatment</td>\n",
              "      <td>Speech Therapy</td>\n",
              "      <td>Upheld Decision of Health Plan</td>\n",
              "      <td>Medical Necessity</td>\n",
              "      <td>0-10</td>\n",
              "      <td>Female</td>\n",
              "    </tr>\n",
              "    <tr>\n",
              "      <th>3</th>\n",
              "      <td>Prevention/Good Health</td>\n",
              "      <td>NaN</td>\n",
              "      <td>Diagnostic Imaging, Screening and Testing</td>\n",
              "      <td>Mammography</td>\n",
              "      <td>Overturned Decision of Health Plan</td>\n",
              "      <td>Experimental/Investigational</td>\n",
              "      <td>65+</td>\n",
              "      <td>Female</td>\n",
              "    </tr>\n",
              "    <tr>\n",
              "      <th>4</th>\n",
              "      <td>Prevention/Good Health</td>\n",
              "      <td>NaN</td>\n",
              "      <td>Diagnostic Imaging, Screening and Testing</td>\n",
              "      <td>Lab Work</td>\n",
              "      <td>Upheld Decision of Health Plan</td>\n",
              "      <td>Experimental/Investigational</td>\n",
              "      <td>21-30</td>\n",
              "      <td>Male</td>\n",
              "    </tr>\n",
              "  </tbody>\n",
              "</table>\n",
              "</div>\n",
              "      <button class=\"colab-df-convert\" onclick=\"convertToInteractive('df-3db6adc7-8ffd-45e1-ac4e-caae390603d9')\"\n",
              "              title=\"Convert this dataframe to an interactive table.\"\n",
              "              style=\"display:none;\">\n",
              "        \n",
              "  <svg xmlns=\"http://www.w3.org/2000/svg\" height=\"24px\"viewBox=\"0 0 24 24\"\n",
              "       width=\"24px\">\n",
              "    <path d=\"M0 0h24v24H0V0z\" fill=\"none\"/>\n",
              "    <path d=\"M18.56 5.44l.94 2.06.94-2.06 2.06-.94-2.06-.94-.94-2.06-.94 2.06-2.06.94zm-11 1L8.5 8.5l.94-2.06 2.06-.94-2.06-.94L8.5 2.5l-.94 2.06-2.06.94zm10 10l.94 2.06.94-2.06 2.06-.94-2.06-.94-.94-2.06-.94 2.06-2.06.94z\"/><path d=\"M17.41 7.96l-1.37-1.37c-.4-.4-.92-.59-1.43-.59-.52 0-1.04.2-1.43.59L10.3 9.45l-7.72 7.72c-.78.78-.78 2.05 0 2.83L4 21.41c.39.39.9.59 1.41.59.51 0 1.02-.2 1.41-.59l7.78-7.78 2.81-2.81c.8-.78.8-2.07 0-2.86zM5.41 20L4 18.59l7.72-7.72 1.47 1.35L5.41 20z\"/>\n",
              "  </svg>\n",
              "      </button>\n",
              "      \n",
              "  <style>\n",
              "    .colab-df-container {\n",
              "      display:flex;\n",
              "      flex-wrap:wrap;\n",
              "      gap: 12px;\n",
              "    }\n",
              "\n",
              "    .colab-df-convert {\n",
              "      background-color: #E8F0FE;\n",
              "      border: none;\n",
              "      border-radius: 50%;\n",
              "      cursor: pointer;\n",
              "      display: none;\n",
              "      fill: #1967D2;\n",
              "      height: 32px;\n",
              "      padding: 0 0 0 0;\n",
              "      width: 32px;\n",
              "    }\n",
              "\n",
              "    .colab-df-convert:hover {\n",
              "      background-color: #E2EBFA;\n",
              "      box-shadow: 0px 1px 2px rgba(60, 64, 67, 0.3), 0px 1px 3px 1px rgba(60, 64, 67, 0.15);\n",
              "      fill: #174EA6;\n",
              "    }\n",
              "\n",
              "    [theme=dark] .colab-df-convert {\n",
              "      background-color: #3B4455;\n",
              "      fill: #D2E3FC;\n",
              "    }\n",
              "\n",
              "    [theme=dark] .colab-df-convert:hover {\n",
              "      background-color: #434B5C;\n",
              "      box-shadow: 0px 1px 3px 1px rgba(0, 0, 0, 0.15);\n",
              "      filter: drop-shadow(0px 1px 2px rgba(0, 0, 0, 0.3));\n",
              "      fill: #FFFFFF;\n",
              "    }\n",
              "  </style>\n",
              "\n",
              "      <script>\n",
              "        const buttonEl =\n",
              "          document.querySelector('#df-3db6adc7-8ffd-45e1-ac4e-caae390603d9 button.colab-df-convert');\n",
              "        buttonEl.style.display =\n",
              "          google.colab.kernel.accessAllowed ? 'block' : 'none';\n",
              "\n",
              "        async function convertToInteractive(key) {\n",
              "          const element = document.querySelector('#df-3db6adc7-8ffd-45e1-ac4e-caae390603d9');\n",
              "          const dataTable =\n",
              "            await google.colab.kernel.invokeFunction('convertToInteractive',\n",
              "                                                     [key], {});\n",
              "          if (!dataTable) return;\n",
              "\n",
              "          const docLinkHtml = 'Like what you see? Visit the ' +\n",
              "            '<a target=\"_blank\" href=https://colab.research.google.com/notebooks/data_table.ipynb>data table notebook</a>'\n",
              "            + ' to learn more about interactive tables.';\n",
              "          element.innerHTML = '';\n",
              "          dataTable['output_type'] = 'display_data';\n",
              "          await google.colab.output.renderOutput(dataTable, element);\n",
              "          const docLink = document.createElement('div');\n",
              "          docLink.innerHTML = docLinkHtml;\n",
              "          element.appendChild(docLink);\n",
              "        }\n",
              "      </script>\n",
              "    </div>\n",
              "  </div>\n",
              "  "
            ]
          },
          "metadata": {},
          "execution_count": 2
        }
      ]
    },
    {
      "cell_type": "code",
      "source": [
        "#Determine the number of unique values in each column\n",
        "urgentcare_df.nunique()"
      ],
      "metadata": {
        "colab": {
          "base_uri": "https://localhost:8080/"
        },
        "id": "10X6DWZ0IQ5b",
        "outputId": "b46811e2-24a8-453b-f0e0-4fd1de6a7948"
      },
      "execution_count": 3,
      "outputs": [
        {
          "output_type": "execute_result",
          "data": {
            "text/plain": [
              "diagnosis_category         27\n",
              "diagnosis_sub_category    145\n",
              "treatment_category         30\n",
              "treatment_sub_category    120\n",
              "determination               2\n",
              "type                        3\n",
              "age_range                   7\n",
              "patient_gender              2\n",
              "dtype: int64"
            ]
          },
          "metadata": {},
          "execution_count": 3
        }
      ]
    },
    {
      "cell_type": "code",
      "source": [
        "# View fill list of parameters/null values\n",
        "urgentcare_df.info()"
      ],
      "metadata": {
        "colab": {
          "base_uri": "https://localhost:8080/"
        },
        "id": "Dy_QHs8EIaAj",
        "outputId": "a48520b3-af17-44d0-d014-91e724fdf992"
      },
      "execution_count": 4,
      "outputs": [
        {
          "output_type": "stream",
          "name": "stdout",
          "text": [
            "<class 'pandas.core.frame.DataFrame'>\n",
            "RangeIndex: 1307 entries, 0 to 1306\n",
            "Data columns (total 8 columns):\n",
            " #   Column                  Non-Null Count  Dtype \n",
            "---  ------                  --------------  ----- \n",
            " 0   diagnosis_category      1307 non-null   object\n",
            " 1   diagnosis_sub_category  1171 non-null   object\n",
            " 2   treatment_category      1306 non-null   object\n",
            " 3   treatment_sub_category  1298 non-null   object\n",
            " 4   determination           1307 non-null   object\n",
            " 5   type                    1307 non-null   object\n",
            " 6   age_range               1307 non-null   object\n",
            " 7   patient_gender          1307 non-null   object\n",
            "dtypes: object(8)\n",
            "memory usage: 81.8+ KB\n"
          ]
        }
      ]
    },
    {
      "cell_type": "code",
      "source": [
        "# Determine the number of unique values in each column.\n",
        "data_cat = urgentcare_df.dtypes[urgentcare_df.dtypes == \"object\"].index.tolist()\n",
        "urgentcare_df[data_cat].nunique()\n",
        "\n",
        "# We'll need to bin the 'diagnosis_category, diagnosis_sub_category, treatment_category, and treatment_sub_category' \n",
        "# with 'other' categories "
      ],
      "metadata": {
        "colab": {
          "base_uri": "https://localhost:8080/"
        },
        "id": "ap35XuGoIrtD",
        "outputId": "114207cc-71fd-4e1f-b047-f9aab9b5c024"
      },
      "execution_count": 5,
      "outputs": [
        {
          "output_type": "execute_result",
          "data": {
            "text/plain": [
              "diagnosis_category         27\n",
              "diagnosis_sub_category    145\n",
              "treatment_category         30\n",
              "treatment_sub_category    120\n",
              "determination               2\n",
              "type                        3\n",
              "age_range                   7\n",
              "patient_gender              2\n",
              "dtype: int64"
            ]
          },
          "metadata": {},
          "execution_count": 5
        }
      ]
    },
    {
      "cell_type": "code",
      "source": [
        "# column 'determination' is the target data, meaning we will need to separate this from our data set and use \n",
        "# supervised learning to train our model. \n",
        "urgentcare_df['determination'].value_counts()"
      ],
      "metadata": {
        "colab": {
          "base_uri": "https://localhost:8080/"
        },
        "id": "gh6DfgtCI35s",
        "outputId": "7a9c67b5-cff1-4f0c-ff35-1abdf2ed7b69"
      },
      "execution_count": 6,
      "outputs": [
        {
          "output_type": "execute_result",
          "data": {
            "text/plain": [
              "Overturned Decision of Health Plan    724\n",
              "Upheld Decision of Health Plan        583\n",
              "Name: determination, dtype: int64"
            ]
          },
          "metadata": {},
          "execution_count": 6
        }
      ]
    },
    {
      "cell_type": "code",
      "source": [
        "# To clean all bins, we will first start with the diagnosis_category\n",
        "diagnoses = urgentcare_df['diagnosis_category'].value_counts()\n",
        "diagnoses"
      ],
      "metadata": {
        "colab": {
          "base_uri": "https://localhost:8080/"
        },
        "id": "DtM28RhrI7e-",
        "outputId": "b5e4f0eb-530d-4779-abfb-dc9809c5c616"
      },
      "execution_count": 7,
      "outputs": [
        {
          "output_type": "execute_result",
          "data": {
            "text/plain": [
              "Infectious                               244\n",
              "Orthopedic/ Musculoskeletal              187\n",
              "Mental                                   154\n",
              "OB-Gyn/ Pregnancy                        108\n",
              "Prevention/Good Health                   105\n",
              "Cancer                                    86\n",
              "Central Nervous System/ Neuromuscular     70\n",
              "Cardiac/Circulatory                       57\n",
              "Digestive System/ Gastrointestinal        48\n",
              "Endocrine/ Metabolic                      36\n",
              "Autism Spectrum                           31\n",
              "Skin                                      28\n",
              "Respiratory System                        23\n",
              "Immunologic                               21\n",
              "Genitourinary/ Kidney                     15\n",
              "Pediatrics                                14\n",
              "Chronic Pain                              12\n",
              "Morbid Obesity                            11\n",
              "Blood Related                              9\n",
              "Foot                                       8\n",
              "Ears, Nose, Throat                         8\n",
              "Not Applicable                             8\n",
              "Genetic                                    7\n",
              "Vision                                     5\n",
              "Trauma/Injuries                            5\n",
              "Dental                                     5\n",
              "Post Surgical Complication                 2\n",
              "Name: diagnosis_category, dtype: int64"
            ]
          },
          "metadata": {},
          "execution_count": 7
        }
      ]
    },
    {
      "cell_type": "code",
      "source": [
        "# Choose a cutoff value and create a list of application types to be replaced (45)\n",
        "# use the variable name `diagnosis_types_to_replace`\n",
        "\n",
        "diagnosis_types_to_replace = diagnoses[diagnoses<45]\n",
        "diagnosis_types_to_replace"
      ],
      "metadata": {
        "colab": {
          "base_uri": "https://localhost:8080/"
        },
        "id": "yLJRvlepJLOP",
        "outputId": "95104836-d6b6-4f0f-dbda-6f388ed89fe3"
      },
      "execution_count": 8,
      "outputs": [
        {
          "output_type": "execute_result",
          "data": {
            "text/plain": [
              "Endocrine/ Metabolic          36\n",
              "Autism Spectrum               31\n",
              "Skin                          28\n",
              "Respiratory System            23\n",
              "Immunologic                   21\n",
              "Genitourinary/ Kidney         15\n",
              "Pediatrics                    14\n",
              "Chronic Pain                  12\n",
              "Morbid Obesity                11\n",
              "Blood Related                  9\n",
              "Foot                           8\n",
              "Ears, Nose, Throat             8\n",
              "Not Applicable                 8\n",
              "Genetic                        7\n",
              "Vision                         5\n",
              "Trauma/Injuries                5\n",
              "Dental                         5\n",
              "Post Surgical Complication     2\n",
              "Name: diagnosis_category, dtype: int64"
            ]
          },
          "metadata": {},
          "execution_count": 8
        }
      ]
    },
    {
      "cell_type": "code",
      "source": [
        "# Checking the number of values that will go into 'other' column\n",
        "diagnosis_types_to_replace = urgentcare_df['diagnosis_category'].isin(diagnosis_types_to_replace.index)\n",
        "diagnosis_types_to_replace.sum()"
      ],
      "metadata": {
        "colab": {
          "base_uri": "https://localhost:8080/"
        },
        "id": "GhmuLLKyJNiv",
        "outputId": "49e34571-fc04-4a02-f533-1c8581c9ea66"
      },
      "execution_count": 9,
      "outputs": [
        {
          "output_type": "execute_result",
          "data": {
            "text/plain": [
              "248"
            ]
          },
          "metadata": {},
          "execution_count": 9
        }
      ]
    },
    {
      "cell_type": "code",
      "source": [
        "# replace lower values of bin threshold with list comprehension \n",
        "urgentcare_df.loc[diagnosis_types_to_replace, 'diagnosis_category'] = 'Other'\n",
        "urgentcare_df['diagnosis_category'].value_counts()"
      ],
      "metadata": {
        "colab": {
          "base_uri": "https://localhost:8080/"
        },
        "id": "Ohv0_4Q7JQDG",
        "outputId": "5e592cc5-484e-4056-ff7e-7bcd279b03c5"
      },
      "execution_count": 10,
      "outputs": [
        {
          "output_type": "execute_result",
          "data": {
            "text/plain": [
              "Other                                    248\n",
              "Infectious                               244\n",
              "Orthopedic/ Musculoskeletal              187\n",
              "Mental                                   154\n",
              "OB-Gyn/ Pregnancy                        108\n",
              "Prevention/Good Health                   105\n",
              "Cancer                                    86\n",
              "Central Nervous System/ Neuromuscular     70\n",
              "Cardiac/Circulatory                       57\n",
              "Digestive System/ Gastrointestinal        48\n",
              "Name: diagnosis_category, dtype: int64"
            ]
          },
          "metadata": {},
          "execution_count": 10
        }
      ]
    },
    {
      "cell_type": "code",
      "source": [
        "# Determine diag.sub.cat bins next\n",
        "urgentcare_df['diagnosis_sub_category'].value_counts()"
      ],
      "metadata": {
        "colab": {
          "base_uri": "https://localhost:8080/"
        },
        "id": "1MXkQ5AQJTDW",
        "outputId": "78a568a1-2a68-4697-e7ee-175e68744312"
      },
      "execution_count": 11,
      "outputs": [
        {
          "output_type": "execute_result",
          "data": {
            "text/plain": [
              "Hepatitis                  233\n",
              "Other                      196\n",
              "Female Breast Disorder      47\n",
              "Back Pain                   43\n",
              "Breast Cancer               37\n",
              "                          ... \n",
              "Carpal Tunnel Syndrome       1\n",
              "Urinary Tract Infection      1\n",
              "Decay/ Cavities              1\n",
              "Viral Infection              1\n",
              "Paralysis                    1\n",
              "Name: diagnosis_sub_category, Length: 145, dtype: int64"
            ]
          },
          "metadata": {},
          "execution_count": 11
        }
      ]
    },
    {
      "cell_type": "code",
      "source": [
        "# print a list of value counts to find a working threshold (20)\n",
        "list(urgentcare_df['diagnosis_sub_category'].value_counts())"
      ],
      "metadata": {
        "colab": {
          "base_uri": "https://localhost:8080/"
        },
        "id": "c1JXnLmjJzbp",
        "outputId": "9a1c86cf-cfcd-4693-c6d2-00e9c3432361"
      },
      "execution_count": 12,
      "outputs": [
        {
          "output_type": "execute_result",
          "data": {
            "text/plain": [
              "[233,\n",
              " 196,\n",
              " 47,\n",
              " 43,\n",
              " 37,\n",
              " 29,\n",
              " 23,\n",
              " 22,\n",
              " 22,\n",
              " 21,\n",
              " 19,\n",
              " 19,\n",
              " 17,\n",
              " 16,\n",
              " 16,\n",
              " 15,\n",
              " 15,\n",
              " 13,\n",
              " 13,\n",
              " 12,\n",
              " 12,\n",
              " 11,\n",
              " 11,\n",
              " 11,\n",
              " 9,\n",
              " 9,\n",
              " 9,\n",
              " 8,\n",
              " 8,\n",
              " 7,\n",
              " 7,\n",
              " 7,\n",
              " 6,\n",
              " 6,\n",
              " 6,\n",
              " 6,\n",
              " 6,\n",
              " 6,\n",
              " 5,\n",
              " 5,\n",
              " 5,\n",
              " 5,\n",
              " 5,\n",
              " 5,\n",
              " 4,\n",
              " 4,\n",
              " 4,\n",
              " 4,\n",
              " 4,\n",
              " 4,\n",
              " 3,\n",
              " 3,\n",
              " 3,\n",
              " 3,\n",
              " 3,\n",
              " 3,\n",
              " 3,\n",
              " 3,\n",
              " 3,\n",
              " 3,\n",
              " 3,\n",
              " 3,\n",
              " 2,\n",
              " 2,\n",
              " 2,\n",
              " 2,\n",
              " 2,\n",
              " 2,\n",
              " 2,\n",
              " 2,\n",
              " 2,\n",
              " 2,\n",
              " 2,\n",
              " 2,\n",
              " 2,\n",
              " 2,\n",
              " 2,\n",
              " 2,\n",
              " 2,\n",
              " 2,\n",
              " 2,\n",
              " 2,\n",
              " 2,\n",
              " 2,\n",
              " 2,\n",
              " 2,\n",
              " 2,\n",
              " 1,\n",
              " 1,\n",
              " 1,\n",
              " 1,\n",
              " 1,\n",
              " 1,\n",
              " 1,\n",
              " 1,\n",
              " 1,\n",
              " 1,\n",
              " 1,\n",
              " 1,\n",
              " 1,\n",
              " 1,\n",
              " 1,\n",
              " 1,\n",
              " 1,\n",
              " 1,\n",
              " 1,\n",
              " 1,\n",
              " 1,\n",
              " 1,\n",
              " 1,\n",
              " 1,\n",
              " 1,\n",
              " 1,\n",
              " 1,\n",
              " 1,\n",
              " 1,\n",
              " 1,\n",
              " 1,\n",
              " 1,\n",
              " 1,\n",
              " 1,\n",
              " 1,\n",
              " 1,\n",
              " 1,\n",
              " 1,\n",
              " 1,\n",
              " 1,\n",
              " 1,\n",
              " 1,\n",
              " 1,\n",
              " 1,\n",
              " 1,\n",
              " 1,\n",
              " 1,\n",
              " 1,\n",
              " 1,\n",
              " 1,\n",
              " 1,\n",
              " 1,\n",
              " 1,\n",
              " 1,\n",
              " 1,\n",
              " 1,\n",
              " 1,\n",
              " 1]"
            ]
          },
          "metadata": {},
          "execution_count": 12
        }
      ]
    },
    {
      "cell_type": "code",
      "source": [
        "# establish diagnosis_sub_cat as a list variable \n",
        "sub_diagnoses = urgentcare_df['diagnosis_sub_category'].value_counts()\n",
        "\n",
        "# use a filter reduce list of bins \n",
        "sub_diagnosis_types_to_replace = sub_diagnoses[sub_diagnoses<20]\n",
        "sub_diagnosis_types_to_replace"
      ],
      "metadata": {
        "colab": {
          "base_uri": "https://localhost:8080/"
        },
        "id": "Dzc-64wZJ2P5",
        "outputId": "25ff08b7-e5b7-4f7e-a413-1520efa5ad67"
      },
      "execution_count": 13,
      "outputs": [
        {
          "output_type": "execute_result",
          "data": {
            "text/plain": [
              "Fracture                      19\n",
              "Substance Abuse/ Addiction    19\n",
              "Thyroid Problems              17\n",
              "Multiple Sclerosis            16\n",
              "Crohn's Disease               16\n",
              "                              ..\n",
              "Carpal Tunnel Syndrome         1\n",
              "Urinary Tract Infection        1\n",
              "Decay/ Cavities                1\n",
              "Viral Infection                1\n",
              "Paralysis                      1\n",
              "Name: diagnosis_sub_category, Length: 135, dtype: int64"
            ]
          },
          "metadata": {},
          "execution_count": 13
        }
      ]
    },
    {
      "cell_type": "code",
      "source": [
        "# Checking the number of values that will go into 'other' column\n",
        "sub_diagnosis_types_to_replace = urgentcare_df['diagnosis_sub_category'].isin(sub_diagnosis_types_to_replace.index)\n",
        "sub_diagnosis_types_to_replace.sum()"
      ],
      "metadata": {
        "colab": {
          "base_uri": "https://localhost:8080/"
        },
        "id": "tTrA1S8QJ8vZ",
        "outputId": "84d8880d-897a-4159-f7ab-d1ff62f21005"
      },
      "execution_count": 14,
      "outputs": [
        {
          "output_type": "execute_result",
          "data": {
            "text/plain": [
              "498"
            ]
          },
          "metadata": {},
          "execution_count": 14
        }
      ]
    },
    {
      "cell_type": "code",
      "source": [
        "# replace lower values of bin threshold with list comprehension \n",
        "urgentcare_df.loc[sub_diagnosis_types_to_replace, 'diagnosis_sub_category'] = 'Other'\n",
        "urgentcare_df['diagnosis_sub_category'].value_counts()"
      ],
      "metadata": {
        "colab": {
          "base_uri": "https://localhost:8080/"
        },
        "id": "jBneAfJxKHcy",
        "outputId": "8b065eeb-1b55-4e4f-ecaf-e2b5cdc672ca"
      },
      "execution_count": 15,
      "outputs": [
        {
          "output_type": "execute_result",
          "data": {
            "text/plain": [
              "Other                     694\n",
              "Hepatitis                 233\n",
              "Female Breast Disorder     47\n",
              "Back Pain                  43\n",
              "Breast Cancer              37\n",
              "Autism-PDD-NOS             29\n",
              "Depression - Severe        23\n",
              "Eating Disorder            22\n",
              "Knee Problem               22\n",
              "Osteoarthritis             21\n",
              "Name: diagnosis_sub_category, dtype: int64"
            ]
          },
          "metadata": {},
          "execution_count": 15
        }
      ]
    },
    {
      "cell_type": "code",
      "source": [
        "# Looking at this list, it seems important to perhaps come back and test the model without binning, \n",
        "# becuase there are list items that seem infrequent but important; or, at lest increase from 10 to 15-18 etc. \n",
        "urgentcare_df['treatment_category'].value_counts()"
      ],
      "metadata": {
        "colab": {
          "base_uri": "https://localhost:8080/"
        },
        "id": "4cXTdcU0KKBK",
        "outputId": "9c9ef6d0-3b5f-484e-b2ac-f9e3afe54ad2"
      },
      "execution_count": 16,
      "outputs": [
        {
          "output_type": "execute_result",
          "data": {
            "text/plain": [
              "Pharmacy/Prescription Drugs                                       421\n",
              "Diagnostic Imaging, Screening and Testing                         355\n",
              "Mental Health Treatment                                           122\n",
              "Durable Medical Equipment                                          53\n",
              "Orthopedic                                                         41\n",
              "Cancer Treatment                                                   30\n",
              "Autism Related Treatment                                           29\n",
              "Pain Management                                                    28\n",
              "General Surgery                                                    28\n",
              "Electrical/ Thermal/ Radiofreq. Interventions                      25\n",
              "Reconstructive/Plastic Surgery                                     24\n",
              "Special Procedure                                                  20\n",
              "Diagnostic/Physician Evaluation                                    16\n",
              "Rehabilitation Services - Skilled Nursing Facility - Inpatient     14\n",
              "Emergency/Urgent Care                                              13\n",
              "Rehabilitation Services - Outpatient                               13\n",
              "Acute Medical Services - Inpatient                                 12\n",
              "Cardio Vascular                                                    10\n",
              "Home Health Care                                                    9\n",
              "Ear, Nose and Throat Procedures                                     8\n",
              "Dental/Orthodontic                                                  7\n",
              "OB/GYN Procedures                                                   7\n",
              "Urology                                                             5\n",
              "Neurosugery                                                         4\n",
              "Alternative Treatment                                               3\n",
              "Not Applicable                                                      2\n",
              "Vision                                                              2\n",
              "Chiropractic                                                        2\n",
              "Ophthalmology                                                       2\n",
              "Preventive Health Screening                                         1\n",
              "Name: treatment_category, dtype: int64"
            ]
          },
          "metadata": {},
          "execution_count": 16
        }
      ]
    },
    {
      "cell_type": "code",
      "source": [
        "# establish treatment category as a list variable \n",
        "treatments = urgentcare_df['treatment_category'].value_counts()\n",
        "\n",
        "# use a filter reduce list of bins \n",
        "treatment_types_to_replace = treatments[treatments<10]\n",
        "treatment_types_to_replace"
      ],
      "metadata": {
        "colab": {
          "base_uri": "https://localhost:8080/"
        },
        "id": "ejTO5bixK729",
        "outputId": "1943742b-42fc-4226-ec93-52a286880d98"
      },
      "execution_count": 17,
      "outputs": [
        {
          "output_type": "execute_result",
          "data": {
            "text/plain": [
              "Home Health Care                   9\n",
              "Ear, Nose and Throat Procedures    8\n",
              "Dental/Orthodontic                 7\n",
              "OB/GYN Procedures                  7\n",
              "Urology                            5\n",
              "Neurosugery                        4\n",
              "Alternative Treatment              3\n",
              "Not Applicable                     2\n",
              "Vision                             2\n",
              "Chiropractic                       2\n",
              "Ophthalmology                      2\n",
              "Preventive Health Screening        1\n",
              "Name: treatment_category, dtype: int64"
            ]
          },
          "metadata": {},
          "execution_count": 17
        }
      ]
    },
    {
      "cell_type": "code",
      "source": [
        "# Checking the number of values that will go into 'other' column\n",
        "treatment_types_to_replace = urgentcare_df['treatment_category'].isin(treatment_types_to_replace.index)\n",
        "treatment_types_to_replace.sum()"
      ],
      "metadata": {
        "colab": {
          "base_uri": "https://localhost:8080/"
        },
        "id": "vL-n1qxfLDp1",
        "outputId": "60ac0f18-a447-4a39-e10b-a5f635198cb2"
      },
      "execution_count": 18,
      "outputs": [
        {
          "output_type": "execute_result",
          "data": {
            "text/plain": [
              "52"
            ]
          },
          "metadata": {},
          "execution_count": 18
        }
      ]
    },
    {
      "cell_type": "code",
      "source": [
        "# replace lower values of bin threshold with list comprehension \n",
        "urgentcare_df.loc[treatment_types_to_replace, 'treatment_category'] = 'Other'\n",
        "urgentcare_df['treatment_category'].value_counts()"
      ],
      "metadata": {
        "colab": {
          "base_uri": "https://localhost:8080/"
        },
        "id": "RITfJNF5LJnO",
        "outputId": "fe444cbb-83d7-4bd1-bf30-9754faa096ba"
      },
      "execution_count": 19,
      "outputs": [
        {
          "output_type": "execute_result",
          "data": {
            "text/plain": [
              "Pharmacy/Prescription Drugs                                       421\n",
              "Diagnostic Imaging, Screening and Testing                         355\n",
              "Mental Health Treatment                                           122\n",
              "Durable Medical Equipment                                          53\n",
              "Other                                                              52\n",
              "Orthopedic                                                         41\n",
              "Cancer Treatment                                                   30\n",
              "Autism Related Treatment                                           29\n",
              "General Surgery                                                    28\n",
              "Pain Management                                                    28\n",
              "Electrical/ Thermal/ Radiofreq. Interventions                      25\n",
              "Reconstructive/Plastic Surgery                                     24\n",
              "Special Procedure                                                  20\n",
              "Diagnostic/Physician Evaluation                                    16\n",
              "Rehabilitation Services - Skilled Nursing Facility - Inpatient     14\n",
              "Emergency/Urgent Care                                              13\n",
              "Rehabilitation Services - Outpatient                               13\n",
              "Acute Medical Services - Inpatient                                 12\n",
              "Cardio Vascular                                                    10\n",
              "Name: treatment_category, dtype: int64"
            ]
          },
          "metadata": {},
          "execution_count": 19
        }
      ]
    },
    {
      "cell_type": "code",
      "source": [
        "# print value counts to see threshold (19)\n",
        "list(urgentcare_df['treatment_sub_category'].value_counts())\n",
        "# health_df['treatment_sub_category'].value_counts()"
      ],
      "metadata": {
        "colab": {
          "base_uri": "https://localhost:8080/"
        },
        "id": "cDK1hsu4LQcC",
        "outputId": "510083b9-aa4e-44e2-8097-8a00e75bedc9"
      },
      "execution_count": 20,
      "outputs": [
        {
          "output_type": "execute_result",
          "data": {
            "text/plain": [
              "[237,\n",
              " 233,\n",
              " 171,\n",
              " 83,\n",
              " 47,\n",
              " 30,\n",
              " 23,\n",
              " 22,\n",
              " 19,\n",
              " 18,\n",
              " 16,\n",
              " 15,\n",
              " 15,\n",
              " 14,\n",
              " 14,\n",
              " 12,\n",
              " 11,\n",
              " 10,\n",
              " 10,\n",
              " 10,\n",
              " 10,\n",
              " 9,\n",
              " 9,\n",
              " 9,\n",
              " 8,\n",
              " 8,\n",
              " 7,\n",
              " 7,\n",
              " 7,\n",
              " 7,\n",
              " 7,\n",
              " 7,\n",
              " 7,\n",
              " 6,\n",
              " 6,\n",
              " 5,\n",
              " 5,\n",
              " 5,\n",
              " 5,\n",
              " 5,\n",
              " 4,\n",
              " 4,\n",
              " 4,\n",
              " 4,\n",
              " 3,\n",
              " 3,\n",
              " 3,\n",
              " 3,\n",
              " 3,\n",
              " 3,\n",
              " 3,\n",
              " 3,\n",
              " 3,\n",
              " 3,\n",
              " 3,\n",
              " 3,\n",
              " 3,\n",
              " 3,\n",
              " 3,\n",
              " 3,\n",
              " 3,\n",
              " 3,\n",
              " 2,\n",
              " 2,\n",
              " 2,\n",
              " 2,\n",
              " 2,\n",
              " 2,\n",
              " 2,\n",
              " 2,\n",
              " 2,\n",
              " 2,\n",
              " 2,\n",
              " 2,\n",
              " 2,\n",
              " 2,\n",
              " 2,\n",
              " 2,\n",
              " 2,\n",
              " 2,\n",
              " 2,\n",
              " 2,\n",
              " 2,\n",
              " 1,\n",
              " 1,\n",
              " 1,\n",
              " 1,\n",
              " 1,\n",
              " 1,\n",
              " 1,\n",
              " 1,\n",
              " 1,\n",
              " 1,\n",
              " 1,\n",
              " 1,\n",
              " 1,\n",
              " 1,\n",
              " 1,\n",
              " 1,\n",
              " 1,\n",
              " 1,\n",
              " 1,\n",
              " 1,\n",
              " 1,\n",
              " 1,\n",
              " 1,\n",
              " 1,\n",
              " 1,\n",
              " 1,\n",
              " 1,\n",
              " 1,\n",
              " 1,\n",
              " 1,\n",
              " 1,\n",
              " 1,\n",
              " 1,\n",
              " 1,\n",
              " 1,\n",
              " 1,\n",
              " 1]"
            ]
          },
          "metadata": {},
          "execution_count": 20
        }
      ]
    },
    {
      "cell_type": "code",
      "source": [
        "# establish treatment_sub_cat as a list variable \n",
        "sub_treatments = urgentcare_df['treatment_sub_category'].value_counts()\n",
        "\n",
        "# use a filter reduce list of bins \n",
        "sub_treatment_types_to_replace = sub_treatments[sub_treatments<=18]\n",
        "sub_treatment_types_to_replace"
      ],
      "metadata": {
        "colab": {
          "base_uri": "https://localhost:8080/"
        },
        "id": "TVZYJp57LXBI",
        "outputId": "76522673-2f97-43b0-e5f8-1a7387576ddb"
      },
      "execution_count": 21,
      "outputs": [
        {
          "output_type": "execute_result",
          "data": {
            "text/plain": [
              "Partial Hospitalization                            18\n",
              "X-Ray                                              16\n",
              "Hormones                                           15\n",
              "ABA-Applied Behavioral Analysis                    15\n",
              "Skin Treatment                                     14\n",
              "                                                   ..\n",
              "Eye Test                                            1\n",
              "Compression Garments                                1\n",
              "EECP-Enhanced External Counter Pulsation Device     1\n",
              "Psychotherapy                                       1\n",
              "Medical/Surgical Unit                               1\n",
              "Name: treatment_sub_category, Length: 111, dtype: int64"
            ]
          },
          "metadata": {},
          "execution_count": 21
        }
      ]
    },
    {
      "cell_type": "code",
      "source": [
        "# Checking the number of values that will go into 'other' column\n",
        "# This number is a little large; it may be worth \n",
        "sub_treatment_types_to_replace = urgentcare_df['treatment_sub_category'].isin(sub_treatment_types_to_replace.index)\n",
        "sub_treatment_types_to_replace.sum()"
      ],
      "metadata": {
        "colab": {
          "base_uri": "https://localhost:8080/"
        },
        "id": "Sles6DHQLfnA",
        "outputId": "bfb683dd-34e3-45d5-c818-d594fea91940"
      },
      "execution_count": 22,
      "outputs": [
        {
          "output_type": "execute_result",
          "data": {
            "text/plain": [
              "433"
            ]
          },
          "metadata": {},
          "execution_count": 22
        }
      ]
    },
    {
      "cell_type": "code",
      "source": [
        "# replace lower values of bin threshold with list comprehension \n",
        "urgentcare_df.loc[sub_treatment_types_to_replace, 'treatment_sub_category'] = 'Other'\n",
        "urgentcare_df['treatment_sub_category'].value_counts()"
      ],
      "metadata": {
        "colab": {
          "base_uri": "https://localhost:8080/"
        },
        "id": "eJdOBjJBLmNw",
        "outputId": "c64fcc5f-2f77-4411-a393-58aa354e76b1"
      },
      "execution_count": 23,
      "outputs": [
        {
          "output_type": "execute_result",
          "data": {
            "text/plain": [
              "Other                                       670\n",
              "Anti-virals                                 233\n",
              "Mammography                                 171\n",
              "Lab Work                                     83\n",
              "Residential Treatment Center - Admission     47\n",
              "Acute Psychiatric Facility Admission         30\n",
              "MRI                                          23\n",
              "Analgesics                                   22\n",
              "Arthritis Medications                        19\n",
              "Name: treatment_sub_category, dtype: int64"
            ]
          },
          "metadata": {},
          "execution_count": 23
        }
      ]
    },
    {
      "cell_type": "code",
      "source": [
        "# No Changes to this category\n",
        "urgentcare_df['type'].value_counts()"
      ],
      "metadata": {
        "colab": {
          "base_uri": "https://localhost:8080/"
        },
        "id": "C7RpsYQILrRp",
        "outputId": "2a061253-71cc-411f-87ca-14739f9561da"
      },
      "execution_count": 24,
      "outputs": [
        {
          "output_type": "execute_result",
          "data": {
            "text/plain": [
              "Medical Necessity               821\n",
              "Experimental/Investigational    468\n",
              "Urgent Care                      18\n",
              "Name: type, dtype: int64"
            ]
          },
          "metadata": {},
          "execution_count": 24
        }
      ]
    },
    {
      "cell_type": "code",
      "source": [
        "# Splitting target from features, first by making target binary\n",
        "import numpy as np\n",
        "\n",
        "urgentcare_df['determination']=np.where(urgentcare_df[\"determination\"]==\"Overturned Decision of Health Plan\", 1, 0)\n",
        "urgentcare_df['determination'].value_counts()"
      ],
      "metadata": {
        "colab": {
          "base_uri": "https://localhost:8080/"
        },
        "id": "H30MHOM-LzK5",
        "outputId": "9d7d4a84-e5ca-41ba-be4d-a5e73fac7aea"
      },
      "execution_count": 25,
      "outputs": [
        {
          "output_type": "execute_result",
          "data": {
            "text/plain": [
              "1    724\n",
              "0    583\n",
              "Name: determination, dtype: int64"
            ]
          },
          "metadata": {},
          "execution_count": 25
        }
      ]
    },
    {
      "cell_type": "code",
      "source": [
        "# Convert categorical data to numeric with `pd.get_dummies`\n",
        "dummies_df =pd.get_dummies(urgentcare_df)\n",
        "dummies_df.head()"
      ],
      "metadata": {
        "colab": {
          "base_uri": "https://localhost:8080/",
          "height": 334
        },
        "id": "ZevsX0pqNE1-",
        "outputId": "fb027c11-2b39-4e6c-8aa3-71a85369dedb"
      },
      "execution_count": 26,
      "outputs": [
        {
          "output_type": "execute_result",
          "data": {
            "text/plain": [
              "   determination  diagnosis_category_Cancer  \\\n",
              "0              1                          0   \n",
              "1              0                          0   \n",
              "2              0                          0   \n",
              "3              1                          0   \n",
              "4              0                          0   \n",
              "\n",
              "   diagnosis_category_Cardiac/Circulatory  \\\n",
              "0                                       0   \n",
              "1                                       0   \n",
              "2                                       0   \n",
              "3                                       0   \n",
              "4                                       0   \n",
              "\n",
              "   diagnosis_category_Central Nervous System/ Neuromuscular  \\\n",
              "0                                                  0          \n",
              "1                                                  0          \n",
              "2                                                  0          \n",
              "3                                                  0          \n",
              "4                                                  0          \n",
              "\n",
              "   diagnosis_category_Digestive System/ Gastrointestinal  \\\n",
              "0                                                  0       \n",
              "1                                                  0       \n",
              "2                                                  0       \n",
              "3                                                  0       \n",
              "4                                                  0       \n",
              "\n",
              "   diagnosis_category_Infectious  diagnosis_category_Mental  \\\n",
              "0                              1                          0   \n",
              "1                              0                          1   \n",
              "2                              0                          0   \n",
              "3                              0                          0   \n",
              "4                              0                          0   \n",
              "\n",
              "   diagnosis_category_OB-Gyn/ Pregnancy  \\\n",
              "0                                     0   \n",
              "1                                     0   \n",
              "2                                     0   \n",
              "3                                     0   \n",
              "4                                     0   \n",
              "\n",
              "   diagnosis_category_Orthopedic/ Musculoskeletal  diagnosis_category_Other  \\\n",
              "0                                               0                         0   \n",
              "1                                               0                         0   \n",
              "2                                               0                         1   \n",
              "3                                               0                         0   \n",
              "4                                               0                         0   \n",
              "\n",
              "   ...  type_Urgent Care  age_range_0-10  age_range_11_20  age_range_21-30  \\\n",
              "0  ...                 0               0                0                0   \n",
              "1  ...                 0               0                0                1   \n",
              "2  ...                 0               1                0                0   \n",
              "3  ...                 0               0                0                0   \n",
              "4  ...                 0               0                0                1   \n",
              "\n",
              "   age_range_31-40  age_range_41-50  age_range_51-64  age_range_65+  \\\n",
              "0                0                1                0              0   \n",
              "1                0                0                0              0   \n",
              "2                0                0                0              0   \n",
              "3                0                0                0              1   \n",
              "4                0                0                0              0   \n",
              "\n",
              "   patient_gender_Female  patient_gender_Male  \n",
              "0                      0                    1  \n",
              "1                      1                    0  \n",
              "2                      1                    0  \n",
              "3                      1                    0  \n",
              "4                      0                    1  \n",
              "\n",
              "[5 rows x 61 columns]"
            ],
            "text/html": [
              "\n",
              "  <div id=\"df-b159fe8b-80a0-47b2-83e6-052b4795be98\">\n",
              "    <div class=\"colab-df-container\">\n",
              "      <div>\n",
              "<style scoped>\n",
              "    .dataframe tbody tr th:only-of-type {\n",
              "        vertical-align: middle;\n",
              "    }\n",
              "\n",
              "    .dataframe tbody tr th {\n",
              "        vertical-align: top;\n",
              "    }\n",
              "\n",
              "    .dataframe thead th {\n",
              "        text-align: right;\n",
              "    }\n",
              "</style>\n",
              "<table border=\"1\" class=\"dataframe\">\n",
              "  <thead>\n",
              "    <tr style=\"text-align: right;\">\n",
              "      <th></th>\n",
              "      <th>determination</th>\n",
              "      <th>diagnosis_category_Cancer</th>\n",
              "      <th>diagnosis_category_Cardiac/Circulatory</th>\n",
              "      <th>diagnosis_category_Central Nervous System/ Neuromuscular</th>\n",
              "      <th>diagnosis_category_Digestive System/ Gastrointestinal</th>\n",
              "      <th>diagnosis_category_Infectious</th>\n",
              "      <th>diagnosis_category_Mental</th>\n",
              "      <th>diagnosis_category_OB-Gyn/ Pregnancy</th>\n",
              "      <th>diagnosis_category_Orthopedic/ Musculoskeletal</th>\n",
              "      <th>diagnosis_category_Other</th>\n",
              "      <th>...</th>\n",
              "      <th>type_Urgent Care</th>\n",
              "      <th>age_range_0-10</th>\n",
              "      <th>age_range_11_20</th>\n",
              "      <th>age_range_21-30</th>\n",
              "      <th>age_range_31-40</th>\n",
              "      <th>age_range_41-50</th>\n",
              "      <th>age_range_51-64</th>\n",
              "      <th>age_range_65+</th>\n",
              "      <th>patient_gender_Female</th>\n",
              "      <th>patient_gender_Male</th>\n",
              "    </tr>\n",
              "  </thead>\n",
              "  <tbody>\n",
              "    <tr>\n",
              "      <th>0</th>\n",
              "      <td>1</td>\n",
              "      <td>0</td>\n",
              "      <td>0</td>\n",
              "      <td>0</td>\n",
              "      <td>0</td>\n",
              "      <td>1</td>\n",
              "      <td>0</td>\n",
              "      <td>0</td>\n",
              "      <td>0</td>\n",
              "      <td>0</td>\n",
              "      <td>...</td>\n",
              "      <td>0</td>\n",
              "      <td>0</td>\n",
              "      <td>0</td>\n",
              "      <td>0</td>\n",
              "      <td>0</td>\n",
              "      <td>1</td>\n",
              "      <td>0</td>\n",
              "      <td>0</td>\n",
              "      <td>0</td>\n",
              "      <td>1</td>\n",
              "    </tr>\n",
              "    <tr>\n",
              "      <th>1</th>\n",
              "      <td>0</td>\n",
              "      <td>0</td>\n",
              "      <td>0</td>\n",
              "      <td>0</td>\n",
              "      <td>0</td>\n",
              "      <td>0</td>\n",
              "      <td>1</td>\n",
              "      <td>0</td>\n",
              "      <td>0</td>\n",
              "      <td>0</td>\n",
              "      <td>...</td>\n",
              "      <td>0</td>\n",
              "      <td>0</td>\n",
              "      <td>0</td>\n",
              "      <td>1</td>\n",
              "      <td>0</td>\n",
              "      <td>0</td>\n",
              "      <td>0</td>\n",
              "      <td>0</td>\n",
              "      <td>1</td>\n",
              "      <td>0</td>\n",
              "    </tr>\n",
              "    <tr>\n",
              "      <th>2</th>\n",
              "      <td>0</td>\n",
              "      <td>0</td>\n",
              "      <td>0</td>\n",
              "      <td>0</td>\n",
              "      <td>0</td>\n",
              "      <td>0</td>\n",
              "      <td>0</td>\n",
              "      <td>0</td>\n",
              "      <td>0</td>\n",
              "      <td>1</td>\n",
              "      <td>...</td>\n",
              "      <td>0</td>\n",
              "      <td>1</td>\n",
              "      <td>0</td>\n",
              "      <td>0</td>\n",
              "      <td>0</td>\n",
              "      <td>0</td>\n",
              "      <td>0</td>\n",
              "      <td>0</td>\n",
              "      <td>1</td>\n",
              "      <td>0</td>\n",
              "    </tr>\n",
              "    <tr>\n",
              "      <th>3</th>\n",
              "      <td>1</td>\n",
              "      <td>0</td>\n",
              "      <td>0</td>\n",
              "      <td>0</td>\n",
              "      <td>0</td>\n",
              "      <td>0</td>\n",
              "      <td>0</td>\n",
              "      <td>0</td>\n",
              "      <td>0</td>\n",
              "      <td>0</td>\n",
              "      <td>...</td>\n",
              "      <td>0</td>\n",
              "      <td>0</td>\n",
              "      <td>0</td>\n",
              "      <td>0</td>\n",
              "      <td>0</td>\n",
              "      <td>0</td>\n",
              "      <td>0</td>\n",
              "      <td>1</td>\n",
              "      <td>1</td>\n",
              "      <td>0</td>\n",
              "    </tr>\n",
              "    <tr>\n",
              "      <th>4</th>\n",
              "      <td>0</td>\n",
              "      <td>0</td>\n",
              "      <td>0</td>\n",
              "      <td>0</td>\n",
              "      <td>0</td>\n",
              "      <td>0</td>\n",
              "      <td>0</td>\n",
              "      <td>0</td>\n",
              "      <td>0</td>\n",
              "      <td>0</td>\n",
              "      <td>...</td>\n",
              "      <td>0</td>\n",
              "      <td>0</td>\n",
              "      <td>0</td>\n",
              "      <td>1</td>\n",
              "      <td>0</td>\n",
              "      <td>0</td>\n",
              "      <td>0</td>\n",
              "      <td>0</td>\n",
              "      <td>0</td>\n",
              "      <td>1</td>\n",
              "    </tr>\n",
              "  </tbody>\n",
              "</table>\n",
              "<p>5 rows × 61 columns</p>\n",
              "</div>\n",
              "      <button class=\"colab-df-convert\" onclick=\"convertToInteractive('df-b159fe8b-80a0-47b2-83e6-052b4795be98')\"\n",
              "              title=\"Convert this dataframe to an interactive table.\"\n",
              "              style=\"display:none;\">\n",
              "        \n",
              "  <svg xmlns=\"http://www.w3.org/2000/svg\" height=\"24px\"viewBox=\"0 0 24 24\"\n",
              "       width=\"24px\">\n",
              "    <path d=\"M0 0h24v24H0V0z\" fill=\"none\"/>\n",
              "    <path d=\"M18.56 5.44l.94 2.06.94-2.06 2.06-.94-2.06-.94-.94-2.06-.94 2.06-2.06.94zm-11 1L8.5 8.5l.94-2.06 2.06-.94-2.06-.94L8.5 2.5l-.94 2.06-2.06.94zm10 10l.94 2.06.94-2.06 2.06-.94-2.06-.94-.94-2.06-.94 2.06-2.06.94z\"/><path d=\"M17.41 7.96l-1.37-1.37c-.4-.4-.92-.59-1.43-.59-.52 0-1.04.2-1.43.59L10.3 9.45l-7.72 7.72c-.78.78-.78 2.05 0 2.83L4 21.41c.39.39.9.59 1.41.59.51 0 1.02-.2 1.41-.59l7.78-7.78 2.81-2.81c.8-.78.8-2.07 0-2.86zM5.41 20L4 18.59l7.72-7.72 1.47 1.35L5.41 20z\"/>\n",
              "  </svg>\n",
              "      </button>\n",
              "      \n",
              "  <style>\n",
              "    .colab-df-container {\n",
              "      display:flex;\n",
              "      flex-wrap:wrap;\n",
              "      gap: 12px;\n",
              "    }\n",
              "\n",
              "    .colab-df-convert {\n",
              "      background-color: #E8F0FE;\n",
              "      border: none;\n",
              "      border-radius: 50%;\n",
              "      cursor: pointer;\n",
              "      display: none;\n",
              "      fill: #1967D2;\n",
              "      height: 32px;\n",
              "      padding: 0 0 0 0;\n",
              "      width: 32px;\n",
              "    }\n",
              "\n",
              "    .colab-df-convert:hover {\n",
              "      background-color: #E2EBFA;\n",
              "      box-shadow: 0px 1px 2px rgba(60, 64, 67, 0.3), 0px 1px 3px 1px rgba(60, 64, 67, 0.15);\n",
              "      fill: #174EA6;\n",
              "    }\n",
              "\n",
              "    [theme=dark] .colab-df-convert {\n",
              "      background-color: #3B4455;\n",
              "      fill: #D2E3FC;\n",
              "    }\n",
              "\n",
              "    [theme=dark] .colab-df-convert:hover {\n",
              "      background-color: #434B5C;\n",
              "      box-shadow: 0px 1px 3px 1px rgba(0, 0, 0, 0.15);\n",
              "      filter: drop-shadow(0px 1px 2px rgba(0, 0, 0, 0.3));\n",
              "      fill: #FFFFFF;\n",
              "    }\n",
              "  </style>\n",
              "\n",
              "      <script>\n",
              "        const buttonEl =\n",
              "          document.querySelector('#df-b159fe8b-80a0-47b2-83e6-052b4795be98 button.colab-df-convert');\n",
              "        buttonEl.style.display =\n",
              "          google.colab.kernel.accessAllowed ? 'block' : 'none';\n",
              "\n",
              "        async function convertToInteractive(key) {\n",
              "          const element = document.querySelector('#df-b159fe8b-80a0-47b2-83e6-052b4795be98');\n",
              "          const dataTable =\n",
              "            await google.colab.kernel.invokeFunction('convertToInteractive',\n",
              "                                                     [key], {});\n",
              "          if (!dataTable) return;\n",
              "\n",
              "          const docLinkHtml = 'Like what you see? Visit the ' +\n",
              "            '<a target=\"_blank\" href=https://colab.research.google.com/notebooks/data_table.ipynb>data table notebook</a>'\n",
              "            + ' to learn more about interactive tables.';\n",
              "          element.innerHTML = '';\n",
              "          dataTable['output_type'] = 'display_data';\n",
              "          await google.colab.output.renderOutput(dataTable, element);\n",
              "          const docLink = document.createElement('div');\n",
              "          docLink.innerHTML = docLinkHtml;\n",
              "          element.appendChild(docLink);\n",
              "        }\n",
              "      </script>\n",
              "    </div>\n",
              "  </div>\n",
              "  "
            ]
          },
          "metadata": {},
          "execution_count": 26
        }
      ]
    },
    {
      "cell_type": "code",
      "source": [
        "# new we will assign target and features\n",
        "y = dummies_df['determination'].values\n",
        "X = dummies_df.drop('determination', axis=1)"
      ],
      "metadata": {
        "id": "OSgpH_jIPjHl"
      },
      "execution_count": 28,
      "outputs": []
    },
    {
      "cell_type": "code",
      "source": [
        "# Split the preprocessed data into a training and testing dataset\n",
        "X_train, X_test, y_train, y_test = train_test_split(X, y, test_size=0.33, random_state= 42)"
      ],
      "metadata": {
        "id": "amtw36FKNIVv"
      },
      "execution_count": 29,
      "outputs": []
    },
    {
      "cell_type": "code",
      "source": [
        "# Create a StandardScaler instances\n",
        "scaler = StandardScaler()\n",
        "\n",
        "# Fit the StandardScaler\n",
        "X_scaler = scaler.fit(X_train)\n",
        "\n",
        "# Scale the data\n",
        "X_train_scaled = X_scaler.transform(X_train)\n",
        "X_test_scaled = X_scaler.transform(X_test)"
      ],
      "metadata": {
        "id": "E971ZiQvNNWP"
      },
      "execution_count": 30,
      "outputs": []
    },
    {
      "cell_type": "code",
      "source": [
        "# Define the model - deep neural net, i.e., the number of input features and hidden nodes for each layer.\n",
        "input_layer = len(X_train_scaled[0])\n",
        "hidden_layer_1= 350\n",
        "hidden_layer_2 = 30\n",
        "\n",
        "nn = tf.keras.models.Sequential()\n",
        "\n",
        "# First hidden layer\n",
        "nn.add(tf.keras.layers.Dense(units=hidden_layer_1, activation=\"relu\", input_dim = input_layer))\n",
        "\n",
        "# Second hidden layer\n",
        "nn.add(tf.keras.layers.Dense(units=hidden_layer_2, activation=\"relu\"))\n",
        "\n",
        "# Output layer\n",
        "nn.add(tf.keras.layers.Dense(units=1, activation=\"sigmoid\"))\n",
        "\n",
        "# Check the structure of the model\n",
        "nn.summary()\n",
        "\n",
        "\n",
        "# Compile the model\n",
        "nn.compile(loss=\"binary_crossentropy\", optimizer= \"adam\", metrics=[\"accuracy\"])\n",
        "\n",
        "\n",
        "# Train the model\n",
        "fit_model = nn.fit (X_train_scaled, y_train, epochs= 100)\n",
        "\n",
        "# Evaluate the model using the test data\n",
        "model_loss, model_accuracy = nn.evaluate(X_test_scaled,y_test,verbose=2)\n",
        "print(f\"Loss: {model_loss}, Accuracy: {model_accuracy}\")"
      ],
      "metadata": {
        "colab": {
          "base_uri": "https://localhost:8080/"
        },
        "id": "ljK06HckOJET",
        "outputId": "45c392a6-9505-41c0-dc4d-617044b1e663"
      },
      "execution_count": 31,
      "outputs": [
        {
          "output_type": "stream",
          "name": "stdout",
          "text": [
            "Model: \"sequential\"\n",
            "_________________________________________________________________\n",
            " Layer (type)                Output Shape              Param #   \n",
            "=================================================================\n",
            " dense (Dense)               (None, 350)               21350     \n",
            "                                                                 \n",
            " dense_1 (Dense)             (None, 30)                10530     \n",
            "                                                                 \n",
            " dense_2 (Dense)             (None, 1)                 31        \n",
            "                                                                 \n",
            "=================================================================\n",
            "Total params: 31,911\n",
            "Trainable params: 31,911\n",
            "Non-trainable params: 0\n",
            "_________________________________________________________________\n",
            "Epoch 1/100\n",
            "28/28 [==============================] - 3s 10ms/step - loss: 0.6119 - accuracy: 0.6709\n",
            "Epoch 2/100\n",
            "28/28 [==============================] - 0s 7ms/step - loss: 0.5342 - accuracy: 0.7223\n",
            "Epoch 3/100\n",
            "28/28 [==============================] - 0s 8ms/step - loss: 0.5099 - accuracy: 0.7406\n",
            "Epoch 4/100\n",
            "28/28 [==============================] - 0s 7ms/step - loss: 0.4969 - accuracy: 0.7577\n",
            "Epoch 5/100\n",
            "28/28 [==============================] - 0s 8ms/step - loss: 0.4778 - accuracy: 0.7737\n",
            "Epoch 6/100\n",
            "28/28 [==============================] - 0s 7ms/step - loss: 0.4666 - accuracy: 0.7817\n",
            "Epoch 7/100\n",
            "28/28 [==============================] - 0s 7ms/step - loss: 0.4499 - accuracy: 0.7920\n",
            "Epoch 8/100\n",
            "28/28 [==============================] - 0s 8ms/step - loss: 0.4354 - accuracy: 0.8091\n",
            "Epoch 9/100\n",
            "28/28 [==============================] - 0s 4ms/step - loss: 0.4201 - accuracy: 0.8206\n",
            "Epoch 10/100\n",
            "28/28 [==============================] - 0s 4ms/step - loss: 0.4138 - accuracy: 0.8194\n",
            "Epoch 11/100\n",
            "28/28 [==============================] - 0s 6ms/step - loss: 0.4028 - accuracy: 0.8286\n",
            "Epoch 12/100\n",
            "28/28 [==============================] - 0s 9ms/step - loss: 0.4005 - accuracy: 0.8206\n",
            "Epoch 13/100\n",
            "28/28 [==============================] - 0s 7ms/step - loss: 0.3817 - accuracy: 0.8423\n",
            "Epoch 14/100\n",
            "28/28 [==============================] - 0s 6ms/step - loss: 0.3752 - accuracy: 0.8309\n",
            "Epoch 15/100\n",
            "28/28 [==============================] - 0s 6ms/step - loss: 0.3695 - accuracy: 0.8411\n",
            "Epoch 16/100\n",
            "28/28 [==============================] - 0s 8ms/step - loss: 0.3631 - accuracy: 0.8480\n",
            "Epoch 17/100\n",
            "28/28 [==============================] - 0s 7ms/step - loss: 0.3530 - accuracy: 0.8446\n",
            "Epoch 18/100\n",
            "28/28 [==============================] - 0s 6ms/step - loss: 0.3520 - accuracy: 0.8491\n",
            "Epoch 19/100\n",
            "28/28 [==============================] - 0s 6ms/step - loss: 0.3423 - accuracy: 0.8457\n",
            "Epoch 20/100\n",
            "28/28 [==============================] - 0s 7ms/step - loss: 0.3377 - accuracy: 0.8480\n",
            "Epoch 21/100\n",
            "28/28 [==============================] - 0s 6ms/step - loss: 0.3332 - accuracy: 0.8491\n",
            "Epoch 22/100\n",
            "28/28 [==============================] - 0s 8ms/step - loss: 0.3274 - accuracy: 0.8560\n",
            "Epoch 23/100\n",
            "28/28 [==============================] - 0s 8ms/step - loss: 0.3166 - accuracy: 0.8651\n",
            "Epoch 24/100\n",
            "28/28 [==============================] - 0s 6ms/step - loss: 0.3168 - accuracy: 0.8629\n",
            "Epoch 25/100\n",
            "28/28 [==============================] - 0s 6ms/step - loss: 0.3166 - accuracy: 0.8606\n",
            "Epoch 26/100\n",
            "28/28 [==============================] - 0s 4ms/step - loss: 0.3153 - accuracy: 0.8617\n",
            "Epoch 27/100\n",
            "28/28 [==============================] - 0s 3ms/step - loss: 0.3076 - accuracy: 0.8526\n",
            "Epoch 28/100\n",
            "28/28 [==============================] - 0s 4ms/step - loss: 0.3149 - accuracy: 0.8503\n",
            "Epoch 29/100\n",
            "28/28 [==============================] - 0s 5ms/step - loss: 0.3134 - accuracy: 0.8526\n",
            "Epoch 30/100\n",
            "28/28 [==============================] - 0s 3ms/step - loss: 0.3001 - accuracy: 0.8583\n",
            "Epoch 31/100\n",
            "28/28 [==============================] - 0s 3ms/step - loss: 0.3013 - accuracy: 0.8617\n",
            "Epoch 32/100\n",
            "28/28 [==============================] - 0s 3ms/step - loss: 0.2989 - accuracy: 0.8537\n",
            "Epoch 33/100\n",
            "28/28 [==============================] - 0s 4ms/step - loss: 0.3002 - accuracy: 0.8583\n",
            "Epoch 34/100\n",
            "28/28 [==============================] - 0s 4ms/step - loss: 0.2975 - accuracy: 0.8617\n",
            "Epoch 35/100\n",
            "28/28 [==============================] - 0s 3ms/step - loss: 0.2945 - accuracy: 0.8571\n",
            "Epoch 36/100\n",
            "28/28 [==============================] - 0s 3ms/step - loss: 0.2897 - accuracy: 0.8594\n",
            "Epoch 37/100\n",
            "28/28 [==============================] - 0s 4ms/step - loss: 0.2912 - accuracy: 0.8606\n",
            "Epoch 38/100\n",
            "28/28 [==============================] - 0s 3ms/step - loss: 0.2851 - accuracy: 0.8663\n",
            "Epoch 39/100\n",
            "28/28 [==============================] - 0s 3ms/step - loss: 0.2923 - accuracy: 0.8686\n",
            "Epoch 40/100\n",
            "28/28 [==============================] - 0s 3ms/step - loss: 0.2916 - accuracy: 0.8537\n",
            "Epoch 41/100\n",
            "28/28 [==============================] - 0s 5ms/step - loss: 0.2898 - accuracy: 0.8617\n",
            "Epoch 42/100\n",
            "28/28 [==============================] - 0s 3ms/step - loss: 0.2829 - accuracy: 0.8606\n",
            "Epoch 43/100\n",
            "28/28 [==============================] - 0s 3ms/step - loss: 0.2838 - accuracy: 0.8594\n",
            "Epoch 44/100\n",
            "28/28 [==============================] - 0s 4ms/step - loss: 0.2862 - accuracy: 0.8503\n",
            "Epoch 45/100\n",
            "28/28 [==============================] - 0s 3ms/step - loss: 0.2825 - accuracy: 0.8640\n",
            "Epoch 46/100\n",
            "28/28 [==============================] - 0s 5ms/step - loss: 0.2864 - accuracy: 0.8651\n",
            "Epoch 47/100\n",
            "28/28 [==============================] - 0s 6ms/step - loss: 0.2884 - accuracy: 0.8571\n",
            "Epoch 48/100\n",
            "28/28 [==============================] - 0s 6ms/step - loss: 0.2796 - accuracy: 0.8617\n",
            "Epoch 49/100\n",
            "28/28 [==============================] - 0s 5ms/step - loss: 0.2774 - accuracy: 0.8697\n",
            "Epoch 50/100\n",
            "28/28 [==============================] - 0s 4ms/step - loss: 0.2759 - accuracy: 0.8674\n",
            "Epoch 51/100\n",
            "28/28 [==============================] - 0s 4ms/step - loss: 0.2798 - accuracy: 0.8629\n",
            "Epoch 52/100\n",
            "28/28 [==============================] - 0s 6ms/step - loss: 0.2830 - accuracy: 0.8606\n",
            "Epoch 53/100\n",
            "28/28 [==============================] - 0s 3ms/step - loss: 0.2762 - accuracy: 0.8651\n",
            "Epoch 54/100\n",
            "28/28 [==============================] - 0s 3ms/step - loss: 0.2783 - accuracy: 0.8571\n",
            "Epoch 55/100\n",
            "28/28 [==============================] - 0s 3ms/step - loss: 0.2759 - accuracy: 0.8629\n",
            "Epoch 56/100\n",
            "28/28 [==============================] - 0s 5ms/step - loss: 0.2768 - accuracy: 0.8560\n",
            "Epoch 57/100\n",
            "28/28 [==============================] - 0s 5ms/step - loss: 0.2746 - accuracy: 0.8674\n",
            "Epoch 58/100\n",
            "28/28 [==============================] - 0s 3ms/step - loss: 0.2787 - accuracy: 0.8640\n",
            "Epoch 59/100\n",
            "28/28 [==============================] - 0s 3ms/step - loss: 0.2763 - accuracy: 0.8480\n",
            "Epoch 60/100\n",
            "28/28 [==============================] - 0s 4ms/step - loss: 0.2701 - accuracy: 0.8686\n",
            "Epoch 61/100\n",
            "28/28 [==============================] - 0s 3ms/step - loss: 0.2739 - accuracy: 0.8583\n",
            "Epoch 62/100\n",
            "28/28 [==============================] - 0s 6ms/step - loss: 0.2807 - accuracy: 0.8674\n",
            "Epoch 63/100\n",
            "28/28 [==============================] - 0s 5ms/step - loss: 0.2814 - accuracy: 0.8571\n",
            "Epoch 64/100\n",
            "28/28 [==============================] - 0s 7ms/step - loss: 0.2691 - accuracy: 0.8663\n",
            "Epoch 65/100\n",
            "28/28 [==============================] - 0s 7ms/step - loss: 0.2766 - accuracy: 0.8606\n",
            "Epoch 66/100\n",
            "28/28 [==============================] - 0s 6ms/step - loss: 0.2702 - accuracy: 0.8709\n",
            "Epoch 67/100\n",
            "28/28 [==============================] - 0s 4ms/step - loss: 0.2744 - accuracy: 0.8663\n",
            "Epoch 68/100\n",
            "28/28 [==============================] - 0s 3ms/step - loss: 0.2700 - accuracy: 0.8651\n",
            "Epoch 69/100\n",
            "28/28 [==============================] - 0s 4ms/step - loss: 0.2748 - accuracy: 0.8663\n",
            "Epoch 70/100\n",
            "28/28 [==============================] - 0s 4ms/step - loss: 0.2762 - accuracy: 0.8640\n",
            "Epoch 71/100\n",
            "28/28 [==============================] - 0s 4ms/step - loss: 0.2679 - accuracy: 0.8686\n",
            "Epoch 72/100\n",
            "28/28 [==============================] - 0s 4ms/step - loss: 0.2707 - accuracy: 0.8674\n",
            "Epoch 73/100\n",
            "28/28 [==============================] - 0s 4ms/step - loss: 0.2701 - accuracy: 0.8709\n",
            "Epoch 74/100\n",
            "28/28 [==============================] - 0s 3ms/step - loss: 0.2702 - accuracy: 0.8651\n",
            "Epoch 75/100\n",
            "28/28 [==============================] - 0s 3ms/step - loss: 0.2716 - accuracy: 0.8617\n",
            "Epoch 76/100\n",
            "28/28 [==============================] - 0s 3ms/step - loss: 0.2652 - accuracy: 0.8663\n",
            "Epoch 77/100\n",
            "28/28 [==============================] - 0s 4ms/step - loss: 0.2715 - accuracy: 0.8640\n",
            "Epoch 78/100\n",
            "28/28 [==============================] - 0s 4ms/step - loss: 0.2751 - accuracy: 0.8549\n",
            "Epoch 79/100\n",
            "28/28 [==============================] - 0s 4ms/step - loss: 0.2732 - accuracy: 0.8617\n",
            "Epoch 80/100\n",
            "28/28 [==============================] - 0s 6ms/step - loss: 0.2670 - accuracy: 0.8674\n",
            "Epoch 81/100\n",
            "28/28 [==============================] - 0s 3ms/step - loss: 0.2688 - accuracy: 0.8686\n",
            "Epoch 82/100\n",
            "28/28 [==============================] - 0s 3ms/step - loss: 0.2667 - accuracy: 0.8663\n",
            "Epoch 83/100\n",
            "28/28 [==============================] - 0s 4ms/step - loss: 0.2644 - accuracy: 0.8629\n",
            "Epoch 84/100\n",
            "28/28 [==============================] - 0s 4ms/step - loss: 0.2620 - accuracy: 0.8697\n",
            "Epoch 85/100\n",
            "28/28 [==============================] - 0s 5ms/step - loss: 0.2638 - accuracy: 0.8640\n",
            "Epoch 86/100\n",
            "28/28 [==============================] - 0s 4ms/step - loss: 0.2732 - accuracy: 0.8629\n",
            "Epoch 87/100\n",
            "28/28 [==============================] - 0s 4ms/step - loss: 0.2730 - accuracy: 0.8663\n",
            "Epoch 88/100\n",
            "28/28 [==============================] - 0s 4ms/step - loss: 0.2662 - accuracy: 0.8663\n",
            "Epoch 89/100\n",
            "28/28 [==============================] - 0s 4ms/step - loss: 0.2668 - accuracy: 0.8640\n",
            "Epoch 90/100\n",
            "28/28 [==============================] - 0s 3ms/step - loss: 0.2761 - accuracy: 0.8571\n",
            "Epoch 91/100\n",
            "28/28 [==============================] - 0s 3ms/step - loss: 0.2677 - accuracy: 0.8674\n",
            "Epoch 92/100\n",
            "28/28 [==============================] - 0s 3ms/step - loss: 0.2677 - accuracy: 0.8629\n",
            "Epoch 93/100\n",
            "28/28 [==============================] - 0s 3ms/step - loss: 0.2710 - accuracy: 0.8697\n",
            "Epoch 94/100\n",
            "28/28 [==============================] - 0s 3ms/step - loss: 0.2638 - accuracy: 0.8640\n",
            "Epoch 95/100\n",
            "28/28 [==============================] - 0s 3ms/step - loss: 0.2664 - accuracy: 0.8686\n",
            "Epoch 96/100\n",
            "28/28 [==============================] - 0s 3ms/step - loss: 0.2683 - accuracy: 0.8663\n",
            "Epoch 97/100\n",
            "28/28 [==============================] - 0s 5ms/step - loss: 0.2595 - accuracy: 0.8720\n",
            "Epoch 98/100\n",
            "28/28 [==============================] - 0s 2ms/step - loss: 0.2662 - accuracy: 0.8537\n",
            "Epoch 99/100\n",
            "28/28 [==============================] - 0s 2ms/step - loss: 0.2625 - accuracy: 0.8629\n",
            "Epoch 100/100\n",
            "28/28 [==============================] - 0s 2ms/step - loss: 0.2623 - accuracy: 0.8686\n",
            "14/14 - 0s - loss: 1.1934 - accuracy: 0.6574 - 162ms/epoch - 12ms/step\n",
            "Loss: 1.1933929920196533, Accuracy: 0.6574074029922485\n"
          ]
        }
      ]
    }
  ]
}